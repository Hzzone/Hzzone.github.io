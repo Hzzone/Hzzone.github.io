{
 "cells": [
  {
   "cell_type": "markdown",
   "metadata": {},
   "source": [
    "### 从一元函数的角度理解梯度下降法"
   ]
  },
  {
   "cell_type": "code",
   "execution_count": 40,
   "metadata": {},
   "outputs": [],
   "source": [
    "import matplotlib.pyplot as plt\n",
    "import numpy as np\n",
    "import math"
   ]
  },
  {
   "cell_type": "markdown",
   "metadata": {},
   "source": [
    "生成一个拥有两个极小值点的四次函数:"
   ]
  },
  {
   "cell_type": "code",
   "execution_count": 39,
   "metadata": {},
   "outputs": [],
   "source": [
    "f = lambda x: (x+2)*(x+1)*(x-2)*(x-1)\n",
    "X = np.linspace(-3, 3, 10000) \n",
    "Y = np.array([f(x) for x in X])"
   ]
  },
  {
   "cell_type": "markdown",
   "metadata": {},
   "source": [
    "离散点的最小的 Y 和对应的 X:"
   ]
  },
  {
   "cell_type": "code",
   "execution_count": 41,
   "metadata": {},
   "outputs": [
    {
     "data": {
      "text/plain": [
       "(-2.2499992119664576, -1.5808580858085808)"
      ]
     },
     "execution_count": 41,
     "metadata": {},
     "output_type": "execute_result"
    }
   ],
   "source": [
    "Y[np.argmin(Y)], X[np.argmin(Y)]"
   ]
  },
  {
   "cell_type": "markdown",
   "metadata": {},
   "source": [
    "绘制出该四次函数曲线可以发现有两个极小值点，并且最小值是左边的极小值点。"
   ]
  },
  {
   "cell_type": "code",
   "execution_count": 42,
   "metadata": {},
   "outputs": [
    {
     "data": {
      "image/png": "[encoded data removed]",
      "text/plain": [
       "<Figure size 432x288 with 1 Axes>"
      ]
     },
     "metadata": {
      "needs_background": "light"
     },
     "output_type": "display_data"
    }
   ],
   "source": [
    "plt.plot(X, Y)\n",
    "plt.show()"
   ]
  },
  {
   "cell_type": "markdown",
   "metadata": {},
   "source": [
    "$f(x)$ 为:"
   ]
  },
  {
   "cell_type": "markdown",
   "metadata": {},
   "source": [
    "$$f(x)=(x+1)(x-1)(x+2)(x-2)$$"
   ]
  },
  {
   "cell_type": "markdown",
   "metadata": {},
   "source": [
    "对 $f(x)$ 求导可得:"
   ]
  },
  {
   "cell_type": "markdown",
   "metadata": {},
   "source": [
    "$$f'(x)=4x^3-10x$$"
   ]
  },
  {
   "cell_type": "markdown",
   "metadata": {},
   "source": [
    "通过对 $f'(x)$ 等于零可得 $f(x)$ 的最小值为 $x=\\sqrt{\\frac{5}{2}}$。"
   ]
  },
  {
   "cell_type": "code",
   "execution_count": 43,
   "metadata": {},
   "outputs": [
    {
     "data": {
      "text/plain": [
       "1.5811388300841898"
      ]
     },
     "execution_count": 43,
     "metadata": {},
     "output_type": "execute_result"
    }
   ],
   "source": [
    "df = lambda x: 4*x**3-10*x\n",
    "math.sqrt(5/2)"
   ]
  },
  {
   "cell_type": "markdown",
   "metadata": {},
   "source": [
    "利用梯度下降法求函数的极小值，基本公式为:"
   ]
  },
  {
   "cell_type": "markdown",
   "metadata": {},
   "source": [
    "$$x= x-\\lambda f'(x)$$"
   ]
  },
  {
   "cell_type": "markdown",
   "metadata": {},
   "source": [
    "其中 $\\lambda$ 是控制 $x$ 更新的幅度，更具体点就是深度学习中的学习率。\n",
    "\n",
    "下面就是利用梯度下降法求函数的极值点。"
   ]
  },
  {
   "cell_type": "code",
   "execution_count": 44,
   "metadata": {},
   "outputs": [
    {
     "data": {
      "text/plain": [
       "-1.581138831026283"
      ]
     },
     "execution_count": 44,
     "metadata": {},
     "output_type": "execute_result"
    }
   ],
   "source": [
    "lr = 0.001\n",
    "x = -3\n",
    "for i in range(1000):\n",
    "    x -= lr*df(x)\n",
    "x"
   ]
  },
  {
   "cell_type": "markdown",
   "metadata": {},
   "source": [
    "$1000$ 其实就是控制 $x$ 更新的次数，对应的是深度学习中的最大迭代次数，可以看出该值基本上和 $\\sqrt{\\frac{5}{2}}$ 相差无几了。"
   ]
  },
  {
   "cell_type": "markdown",
   "metadata": {},
   "source": [
    "### 一个好的权重初始化的意义"
   ]
  },
  {
   "cell_type": "markdown",
   "metadata": {},
   "source": [
    "为了方便理解，同样从一元函数的角度出发，**为什么一个好的权重初始化非常重要？**"
   ]
  },
  {
   "cell_type": "markdown",
   "metadata": {},
   "source": [
    "首先要知道梯度下降法最大的问题是什么：迭代终止于**局部最优解**，很难找到**全局最优解**。"
   ]
  },
  {
   "cell_type": "markdown",
   "metadata": {},
   "source": [
    "当 $x$ 初始化为 3 呢？"
   ]
  },
  {
   "cell_type": "code",
   "execution_count": 45,
   "metadata": {},
   "outputs": [
    {
     "data": {
      "text/plain": [
       "1.581138831026283"
      ]
     },
     "execution_count": 45,
     "metadata": {},
     "output_type": "execute_result"
    }
   ],
   "source": [
    "lr = 0.001\n",
    "x = 3\n",
    "for i in range(1000):\n",
    "    x -= lr*df(x)\n",
    "x"
   ]
  },
  {
   "cell_type": "markdown",
   "metadata": {},
   "source": [
    "同样的参数取得了不同的结果(ps: 为了计算方便这个四次函数关于 Y 轴对称，两个极值点都为最小值)。"
   ]
  },
  {
   "cell_type": "markdown",
   "metadata": {},
   "source": [
    "所以这就是一个好的初始化方法的重要性，caffe 权重的初始化方法一般为 Gaussian 和 XavierFiller，偏置项一般常数初始化为 0，具体如何初始化可以参考 [caffe中权值初始化方法](https://www.cnblogs.com/tianshifu/p/6165809.html)。"
   ]
  },
  {
   "cell_type": "markdown",
   "metadata": {},
   "source": [
    "### 动画展示梯度下降的过程"
   ]
  },
  {
   "cell_type": "code",
   "execution_count": 20,
   "metadata": {},
   "outputs": [],
   "source": [
    "%%capture\n",
    "%matplotlib inline\n",
    "import numpy as np\n",
    "import matplotlib.pyplot as plt\n",
    "\n",
    "from matplotlib import animation\n",
    "from IPython.display import HTML\n",
    "\n",
    "def show_anim(X, Y, f, df, max_iterations, lr, initial_x):\n",
    "    fig, ax = plt.subplots()\n",
    "    ax.plot(X, Y)\n",
    "    line, = ax.plot(0, 0, 'ro')\n",
    "    annotation = ax.annotate(\"\", xy=(0, 0), xytext=(0, 0), arrowprops=dict(arrowstyle=\"->\"))\n",
    "    # 返回梯度下降的点，生成动画的箭头\n",
    "    def gradient_descent(f, df, Y, max_iterations=30, lr=0.001, x=-3):\n",
    "        points = [(x, f(x))]\n",
    "        print(lr)\n",
    "        for _ in range(max_iterations):\n",
    "            x -= lr*df(x)\n",
    "            points.append((x, f(x)))\n",
    "        arrows = []\n",
    "        for i in range(len(points)-1):\n",
    "            arrows.append((points[i], points[i+1]))\n",
    "        return arrows\n",
    "    \n",
    "    arrows = gradient_descent(f, df, Y, max_iterations, lr, initial_x)\n",
    "\n",
    "    def init():\n",
    "        return line,\n",
    "\n",
    "    def update(index):\n",
    "        start, end = arrows[index]\n",
    "        line.set_data(end[0], end[1])\n",
    "\n",
    "        annotation.set_position(start)\n",
    "        annotation.xy = end\n",
    "\n",
    "        return line, annotation\n",
    "\n",
    "    anim = animation.FuncAnimation(fig, update, interval=500, blit=False, frames=max_iterations, init_func=init)\n",
    "    return anim\n",
    "\n",
    "lr = 0.001\n",
    "initial_x = -3\n",
    "max_iterations = 100\n",
    "anim = show_anim(X, Y, f, df, max_iterations, lr, initial_x)"
   ]
  },
  {
   "cell_type": "code",
   "execution_count": 21,
   "metadata": {},
   "outputs": [
    {
     "data": {
      "text/html": [
       "<video width=\"432\" height=\"288\" controls autoplay loop>\n",
       "  <source type=\"video/mp4\" src=\"data:video/mp4;base64,AAAAHGZ0eXBNNFYgAAACAGlzb21pc28yYXZjMQAAAAhmcmVlAAA9dm1kYXQAAAKtBgX//6ncRem9\n",
       "5tlIt5Ys2CDZI+7veDI2NCAtIGNvcmUgMTUyIHIyODU0IGU5YTU5MDMgLSBILjI2NC9NUEVHLTQg\n",
       "QVZDIGNvZGVjIC0gQ29weWxlZnQgMjAwMy0yMDE3IC0gaHR0cDovL3d3dy52aWRlb2xhbi5vcmcv\n",
       "eDI2NC5odG1sIC0gb3B0aW9uczogY2FiYWM9MSByZWY9MyBkZWJsb2NrPTE6MDowIGFuYWx5c2U9\n",
       "MHgzOjB4MTEzIG1lPWhleCBzdWJtZT03IHBzeT0xIHBzeV9yZD0xLjAwOjAuMDAgbWl4ZWRfcmVm\n",
       "PTEgbWVfcmFuZ2U9MTYgY2hyb21hX21lPTEgdHJlbGxpcz0xIDh4OGRjdD0xIGNxbT0wIGRlYWR6\n",
       "b25lPTIxLDExIGZhc3RfcHNraXA9MSBjaHJvbWFfcXBfb2Zmc2V0PS0yIHRocmVhZHM9NiBsb29r\n",
       "YWhlYWRfdGhyZWFkcz0xIHNsaWNlZF90aHJlYWRzPTAgbnI9MCBkZWNpbWF0ZT0xIGludGVybGFj\n",
       "ZWQ9MCBibHVyYXlfY29tcGF0PTAgY29uc3RyYWluZWRfaW50cmE9MCBiZnJhbWVzPTMgYl9weXJh\n",
       "bWlkPTIgYl9hZGFwdD0xIGJfYmlhcz0wIGRpcmVjdD0xIHdlaWdodGI9MSBvcGVuX2dvcD0wIHdl\n",
       "aWdodHA9MiBrZXlpbnQ9MjUwIGtleWludF9taW49MiBzY2VuZWN1dD00MCBpbnRyYV9yZWZyZXNo\n",
       "PTAgcmNfbG9va2FoZWFkPTQwIHJjPWNyZiBtYnRyZWU9MSBjcmY9MjMuMCBxY29tcD0wLjYwIHFw\n",
       "bWluPTAgcXBtYXg9NjkgcXBzdGVwPTQgaXBfcmF0aW89MS40MCBhcT0xOjEuMDAAgAAAF8lliIQA\n",
       "Fv/+99M/zLLr9zm146j3op4mX0N1JQGblsTtOoAAAAMABnblzZfZ7UFwH2gAB6Wd/99ROYPAAmNk\n",
       "Vf/zfkH+s3dtCFix93WKaHBUsODMka+zf9cFBbfVXnIlSuFOaURajmYjChthUb03CDNYhcZlQiGB\n",
       "vUaozQOH53vGyhsEHNdaPaCAU7pPtZskvsghFKhQAQ8Dxhgly1zKwvqkT0ondMH4xdHrd4Z6zSo+\n",
       "HX65gq0/rT++PRALOOEMlxP/+4ymwVIjjiW9+V9tDJxyL8mVDIJBGniDTODfpxh4biwMcRXVLLUz\n",
       "Nm08Bts2liR6cSbf76HY0R7DYDjDNnlmdlBWcm4emY7FBPfJ0JmdRnF8UP5j6tLUzzaGN9UHpWcM\n",
       "0cnVc1ZPD44nGuSuFBs7yUNp09ykLR90nk9k9iazcfzeIPHn7maQ4ycA1VAplNzzJVvqE5et5NFo\n",
       "dwSoE+CPyAwLU2R7qynzqISl+ztZGBV1bVSrB05eDOH1JGGGjHqdaH/CrXGZ2ddw1tozQHFb4EeD\n",
       "ykcodmnWL7lrivXieRR8G3qddiz1KcxOuhkCDEmPBoAANGHb+5Tt6xn++2eNAlkK4XatN7VWnS7x\n",
       "Aown+fJqtjSPvSi8sRaEG0bwhLrcHbevGGissegbYc7V0OOQkHN0uy3wtzFiafuSX8l1CITTs46J\n",
       "f10TjWMKUtAu9ti43X4WXEBwwcifBxTBUSAh1VgMN4F28yMLMxYf2WwUO1T7cimgYoNq2JWqrxqI\n",
       "a7+i0LTfHR64HpScHQCDXeh4ddPYkIT8GLIU4nEKTtN4EIKI1idnoYh3n/i4WWSEbwnhRIdBOyxJ\n",
       "bsTURC4x4IgnUhhOD6VQ1hj9Kpr2lUhdZw9Eg2f9mxI/SWDxKMDepngCYadTtvffBtBMwqXuX08Z\n",
       "RxpBcZb7IoNl0XwbiSex59i5p41Wx7YlNTp9/b1EiikydAbo6PNMfXwtUS58DfninoKSUugD72QO\n",
       "yozWpetviqlhUMy9SPFAOhQNITDmakovOpll8Ie+HPy0fQ21swy/IowFb3PPCTeuGcS4im19g2q8\n",
       "CAc7NXpNGaWCILCEZmKclhZLXga4qsBZGu6pqICFDDVPrXLImKOJ4O1k5nYS6WBwCmjg+wqLbqZh\n",
       "s9aiuR01ouBuzMuio62YOViIFAGAbx+xCXCV6rUdrUNMT3srekChYebJQQ2KdWaHGZ7/LeS0YaM4\n",
       "CpcFHxcqZkQYzXftpzqkp77/9LIHkUaYpCt02mMljW2Z8FIHEtZ9dp+p+Nj0vT2GQQJvIr2DaOq8\n",
       "u9jD68JcktydAUqOuNJA4Caxcfg5Fm39erVloxAnWY6uaR/7RhDsO17SmVf5VdcojMViccrFJNgQ\n",
       "8Rs91p/loNJxTGmm3Icc6pi9cWSnv0hBC34GQQBUw25E1UbiukT4TUq3H8tDrGws8H21ebptf2Ex\n",
       "HvlpYIMMW2ixoAiAnDuSSDxPVFVXqq5C6FSsXVOC+Ax9+bAJDAzy4KytC2EriGrFacyvmTxXHA3/\n",
       "N114nMaI0b4yc+nMjGqzg1bI5QPD9/CsEjb8IPmAciH1lQ6gP7jH5XstfeGONpmA1kFv+DoTTRI1\n",
       "I5TjX1RNYG8D3cZAZrIZXLYB3Aj3KgLMENB7ZeHzXo4Vxw3uwmIIH3axRKRA749hSzjDFu4Hdthu\n",
       "6Zoy16iiQDScuXzdJZlE34VplNxYFZpal0E3suS4niS8z+rPhSgDxIjUgf4CdCSg8EFRh+TRyPCj\n",
       "UHa/UJoqe7X9DENhr12JSwDKyXPsm6BMho4oCv8d6vT5zbLGk1EFrxz7putwPX04rq1UG3mUHheK\n",
       "MRzkEczo+FTZ5Krl7aoDMCK6me6C3pREdM88JF9AbJl2L/lNgIAf4w2MwF6BqbRVD0sLCzxdCPHQ\n",
       "LNMOlwPE/EQijeOos+c9y7EVPpZ9gc1D7gohgwKpxX4g8qbkGl+I1YZx8XP60Wyqx+PocdIo43UQ\n",
       "XAxhdiXy54UI8h2ET6mdV2dtmrgoZJZUJEnrPu1Mmy8QpXxlo2T/79yaC8h05nZcS9BSoYQ+NcYU\n",
       "qcDxZkBY1knWTLPAHoti4SKPODuUHNyuDMgk+hfqxB4XgmI2fdLgJjiLMMvdxjIKxfI9RtJWIiKp\n",
       "bBKBZcdY9Lg+cnr0qEC9upe0G/ffh2njDGBC2nsH0ABqJ1Oq+XqznFwJNN5c2PLVF97ZKxm/PRN3\n",
       "zs8JjO2zak+E0fvZmiukYQVLD6BzMU8q2xReFuzEbs4nlGyY2SUsnzKMCJjrVRQjSwKPW/SskLkp\n",
       "M2TkE1fSdQEfOKSjrv2AcOpSo1hVXZCNXB67DL/LAPa0AGOt5zqAw+gY8Q49Dv+HW92JpPdBmH/d\n",
       "vV2LElqExxXZfK65g8w4gPLJ8ExyEQO/qbW5kkEC2466QBATYuloK7yA9GNN7ZHPm8V8ZclD5A27\n",
       "nVEal2INaw0xllV2OxxJV8LiZUhmImI9QWMQrRn3+mMrbawbxkvfU0IP5Vgw0o0sNMnKeIz0QCWo\n",
       "o1ewwmQA299xYdE3HNX/Jv6ip3LTy/sRPWs4ZVbu2oacX1/4/tFonlNG/poQWbFSWCtg1LxQ5ord\n",
       "qnDN6h6GZOfX/Rl3ETEWlf6OCFmgTEycSL5HFZ02690iPzcO560g4Qqq96beb4/gm/+2eWWGaBco\n",
       "mjxWsvMTxMPiA/u8Jpeu9SwaVZ77Ki6GZkwI9IbuBIrYaBY45OkulbZwG+AeHivmTgCgW8KesT+n\n",
       "jgu2y4yojfQwH/i2aKZxD65oJ3ka14OT4UcMxl1C0Gk+p5EPaTfJ7ojA4zYlbVm+S8T8rCNmRhN6\n",
       "JsPg4u3rXVgN5YNl3IFxoIbZery0MEeSVJ2R+bxlGMfiVjzH3gg3wZrxBGhFE5AcPCNf8/BlS5f8\n",
       "pH7gX1NDuJCfvUVwu0QMCIp5Nq73XsoHkN44ddI3eXhpb7zvDOqpMRTIlwM+7wZ3T9SrDWAQVogj\n",
       "TklBBe0RloeHUpyNgVKN+TnRiMQFtiLl8HdadSDbw5IGuYaUl8Ir5KLH2OBb+RhInU19jaZVxIqb\n",
       "05y7t+h5CwuLxBe6R0idDGzH6upACjUVS8xIMvajX2Bdrf41EncUfKHsUHkNxNtk2DandIahmMvg\n",
       "M1ThzxDJOaoRXmxwjzLQIQ3IhpRNjBaHohzqiBvHmr/XPQfJnXh8F7ZLbhvrd/kD8h7G4GK6MAPy\n",
       "90utOhmlx6Ay8Hsq9uEh1PbewJLAbbG85ioUnIXDEcUhwlVSZlMHHiSWoCffBq1ATrVnXS6e84zQ\n",
       "6HLcwVQgSIZXHx0IshFOiKi1kO1Q2Or1BK4Kq8G8NYHXsHrvZN0XXSgqK1y+PF4c7tTVak8EHQv+\n",
       "tc2x4E1h1ZFLn4qkFkwrLZpY4m/bzLBayBq6Uzq1XYOdxmLhlVgSnpwtoT0EwNt56RbysKD7QwNm\n",
       "XSk3Xs5TvZ94My+wfyUwRIb6Mbfm/yZvss5EmZiFfD83CMQxyTkROuvr0pBYEffAc3RQvHF2MjEp\n",
       "ksxzP6ySXPsY1Baj95IPflDxdSGeSGKvvQqs3pSFl88ZzDUwUMN8gNI1rufCh1teEJyozvHq1a9w\n",
       "e3BHWZH2QGn1Yy/vtUR5DxHVlzeQFN3QVEAu4noWvPBWxXRAk5BR5svi6HS5wXYUyaYxqngwzjd8\n",
       "T1AhqScuiqvojO88P3LP8JmRiWrH5QVqGVAmbSBz088XlhWLqgIC22kbum92C0jCpzOO2AaoHx02\n",
       "pqsldLtgRgEhnaxxk5uVE4P7xAbn1sUfuylMaWcQiZXkEz5kLLQ/XdXmzK390Xkka+yJgKZhd00/\n",
       "a6T+OE02OXTNFnnnH6HEGhK0SmklXgMejg+1SlLopvanWygGXTiZMTudSh3P35PIweMGu4MBNWqj\n",
       "ZVjpOS1eGWmx83tlK6N0uvlHRrFDUQXmLXowFHz30NpmrpGSDMij1epE+ykfWXnPnb16PZFwkxOn\n",
       "vsi9XidgXyHiUCP4oHq2ptOCH08FhOhXzF+d9VPUqhvEcs5nm2MPb2dJiFvfbrJB3cWLwTBcXMnK\n",
       "IQTmLBfAMSyna1FDVfIKXVkR681uHXobzN92DeUDJeSg7ZOh1s/BBLBz80IkpwSWauRBdHPWCmu6\n",
       "o8FHDflee3HNbcL9XXkdjisTjSU4AZapnfied9Ek2pme6WbVhmetCHWKaIElWM//zX/xPiCbzjif\n",
       "SNSS8LZdFMDiigoVrv7ZLPDyVN81qhdv5oXti84to5GmqjHN7zD6Rah4ERtaRXycN3/YezI/BLWq\n",
       "yjO+wRdnx4+GFAg3c/BTnRG22yFg7uPHRPKXMAlgq4aeyi3tHJNUhzJPL+k6ecDrchnJ1qLxtWXD\n",
       "VxAIwU/X7pb0MyiQpReQtfQ9S63UKNkq4iB+bBs88/yZbNv7U6ArEIz4JTrG/Wl/EUIZP056iMbH\n",
       "aNydvtYfMaCRCvWC5ABZj2EVL/f1cF48Qh1xOjK5AllPVAPOULxDRl2M2b/lDDpwrKC81a2h+mSx\n",
       "B5kmniB6c9mfR2NTGiO3LduAyqx8jWr68VX3LL8Fbz074nG3TrWxWMdnfwZ+a/ilo2yAJR3rBxM+\n",
       "G9fE/in40XNnHb/Zm5UczkE//uB95fG00WGriLB7kvV/+ysW8O6fx+Ob7vSbsimDzOdTfgyhaqa6\n",
       "lu84vZ5fVZL+bjqb1E/boC5oaWkfgiy00kjGDeo5HnyQfyV3vw1W3q8iR4zCNSqxFfOIT7cm47gA\n",
       "cZXOANxZzb0I28UEFaHbRx2PVYz6ipP/aKBOvP6XiO7Ldo1c1YpYdeAeLeaAOpA2JKP7rSUGKyMu\n",
       "D9mRphgqr+Ik3PFGrcg9MLyRd4EitVHCU2HZaq+xouRzMzOiUbz1yEWawiqGFENEXFbL78eoRxwr\n",
       "QGErZAaADvIJNcBXFM3CbYFI1ge3l+bq4cWU4GclnwgKeRXxbCgInMakKoSVYn4JGcuTuBSyVFpk\n",
       "ebgjPNlA/2P4wvBVJUuZLbVaGuOJ8MmeuuQ9GYg6Szl8A/0L5S4dE49lkifoD3Uld9cVm8AWv8L/\n",
       "SXXq/v6mY2HLRRUcLaMxoUzF8uInqk5r6dlf8oHoSKK20RvxO3lDcWeVCXS0BssQBx2T7zXe0tkH\n",
       "DRfSxgS/YHYtZp7M/apPN7Qe4oAdA42VjSoYXK3PiR5pm3X1/ZMcbAm2WuwJoRu/MDvQEeFgMs6K\n",
       "PKvkuyr5UD6GeD9Vl7uOOqee9eFPeeOD9QbBaV3/RAowo1jG3zTpgEs3RyA/2qRhoMVKHxVh/M0g\n",
       "pib5sxQxdegB8amdclpeQH6boJif5MRT5ZMLeM0Ve9UNomieXeBw1p2hOKonUV0r3P2R9g0c7VCh\n",
       "Mny9+FH5j3eHyy758EKXJd6pspDNqc1+WVjH2MjHyKuewDJ2Ze9ZCBGMS012lJEo6aJe3/m1i6X0\n",
       "MbfCgeyUoX3VXrbZ8Zp8pL/ZWnyM418B02/3k6uutWM7aq9IxEjes6iCZsKBCsBbV4DYNkdGodjO\n",
       "xIn03TBD5r+DIsPu2bXYA56wGsBM+SAa2xjjexBBlAq5vKtGZJdEpleC1evTxFq5R/IUESgs7d5Z\n",
       "WOeHi2w6l0xJvjW+SvYp+uj2gK1LtMZwN+dAa61QwzQrKdNbhq5eAwzVSJpX6EhqV9WlL7+mtzov\n",
       "805aDHwTFoCOiKmn6k6J8inlK/EPwQOHYaMfkJgXUfFupsGv6k6JigvGw6GQJJxsWv8OBdTFwIvs\n",
       "4iMOswhpakvNMaIwivqbaorjMWROGR/U9vj7/EzMfQtUwJn4FhGPlW+PKt30pGSx4/to8OoxKWT5\n",
       "/wXdXO7L3k375PeeJY8bwClNwQnQybHot9hAIPZjbYelw54Jp6RHwvRpu4TdC5agsNJ9uRgFDkg2\n",
       "AYIklv20EpEIpWkXBWIjc9lhJcWeLAMb8FOYRTl2YRYYEMLeaNnQqCBGUry1Kkw1mourTOd7iMYw\n",
       "n6X+d+urBPBBhH530xJ9wqUoBsBfSTiH5cZL3D3h9+AWr/YOGYxYbsiKAUAulbjX96lo/WF9hUsJ\n",
       "raCcfKU45nkrMGQ81cSSzG5YOwM108/6j2Ki++OSG3ywvxbQUhdNdOt9UIXFULaCUV465xLxXTG3\n",
       "aO0tmgN70eImrvnWx3LEQs/9XZ83Om6kZv3AXv4OkdNaKfX8Rsc2bIZ6ERvtOrzbOn2AHyFCY57N\n",
       "jypjwEpZ5BS9FRGkGQVqw4JGds3idOxSOzoI07EVxSbvRJeoqaDYZPFsVXsnfKrQ0IkILDNcWHc6\n",
       "CXVhxKcvHXLV2a5KFntb21O0PxHLmRhNrPFdo4hllcS27ShMKpq8kxfmUk3WNY0W7tdv4+7jFzeQ\n",
       "5cET/VOcYWkz7RlOvHuGqSP48c4u2LyoPR/aVIVtr/Dv2+9zHPksZp62l8IYe+Inxv4neXvLJXGr\n",
       "yOalBLK20o+NYiHYi9OR0Fda7qy3e0p9tg5/ZvTueVQnfeKOh4jcmIdMzFzTFjOwFTf0FI9ii8mu\n",
       "ZPGo4iJ7wlPswFw5gziBksceGLiTlVIQuqcklPbggq4e9adE9AzMW4TWzvWrSHWVxBbiwUtcLLPY\n",
       "H8Qh59g/HEGYDt7DygD89QnWAhlWutEdqPuysOWbYzjOa3if0hTa3ZCCNF0K1aNW19KaRNUlwFIH\n",
       "GgrLFwo/NbNfrcTuWJj78ygJbfG/awvE8sGrgYVOhJzuDgD9MOYXDvIZ9X3mY+2t9HTt/w+Dh/B7\n",
       "xRBZh/lRuX/HPZA6dwyayI4reP9j6K9L4pI/sAL41H+B6wkn63EEbAeq5oy0WD9IL4pHs5K2ZA2U\n",
       "nwcSAXfgVmDLyR3T/h/7u99idq7W3wCDuQwcTX1UexRTXigKqL7UDGwaI7slBPtvBd43u/+MTy6o\n",
       "otLT9GUZvulcrjaRNwHgAzOoMhSd4kbwecLfiDXuUFrliUtHBafSWTNfrcTyV7PV/wGGs07go2jt\n",
       "cKfp1SZ1JelB9gASckljn0TMFXVdWwuUjntVRer1p++tRaAQ4a6bxEK3pEfIzRndNy346OlU3JQ+\n",
       "X+A27JgN9h8NJbbPKCCgS+7ESjmpkP748IscIsTUzZRsUHGISReN7V35csXWmZUUzFm9MhpJ8vGJ\n",
       "+tZJXmH0VgKM7MxxX96oMlKtXUSXT+8SXZmB7Bu5vWx51b4ZaQSnpugowV5yNZFNdJTZyK1I7AwX\n",
       "PciASW+fbB0HQQEUd9W0+7LHX2XcwAoXCfL4FW4IrHFo+507viua6nl5PQ1ndbF8djK9yVVH8yxr\n",
       "51pARNk/9iuRjllUjz00KkV9yqxwxVGZ+yWWZw4lrUgdB6kBWJYXurkiM6e4YTI9oStcOe11arvN\n",
       "1f8tfnsAxtjUUd2+9r83/F8uJTvHiyaLnz/WI8co5ls1TBNKFUMVaycq8rlHvtQWR7iyvOhuvVT0\n",
       "1CpjlTl0mp4z5I9U2EADhGMJogb/+TjJvOdJWml9iPGWQtuC7uM60R5rQp4CbFFv3koFU4hwUSNu\n",
       "ryQ8m8rvkXy0SCgy3e6/IsTkTXDfGcoR4uC15XVf8pzHzjtdJMTvo42kNGS1KD5Ft4Cc7NLH5y+o\n",
       "l190cc/hZZvXQ9GIhQdbIZvBrEl+O2fGLsIzdsYNOI+rz+oAS3NccygRemxnyqdDbXZbq4pNlOL+\n",
       "kyGzsxGStYg50Qs4pOiLQhYYIGuQ+XHvqVsOpN/yN2pPwzgcT3Vwr1O35LVs4UtfuSSfNfKdjIMg\n",
       "CGYni4AIzwMYSb5IBR+wB7khei3xQcqyE3/l7N4Oy1G4xq7cjj5B8gg5AwZyIrhHzLAwLT1Pfhbo\n",
       "eeBit6s8H3QqMiBiEfvJK7gf27qsLL4aJiBmk66FV8czssOEHIVYiXbwq8Y/4OlpU4KfcKibsCGU\n",
       "T77055dLPs5LUBfnQrP00ZI3+a5JxPDjYyEhw6ImxiNqij5wUJKrBoou3WSEetYek5U5pEIqDrIC\n",
       "MkCrQzx1nDpQ4DfhNINF8r1i1bMulGXEzRqCL66dBkWWW7ZNJTY4W1BalLsVGHMV12l+huqRAgnt\n",
       "K5+oxFZwAYeFEQieizZzemvRRG6J4sxMTs3ti9VnOhCoEMzJ1rAVCXB6lTpvgenSsDjT+O5JXeBj\n",
       "cUNECccIBpZSCsRXhduG3GUwCiE1iX7Bcm6FUd/bT3e9t6aojAAAAwAC2wAAAchBmiRsQV/+1qVQ\n",
       "BJFR70BCXQdlTXTeJO7avv1v2tZ4KBOzaD54NcXoz71TTryALDQf49P1LoXk7F5aIvv+l8h4j7d4\n",
       "uU5iE5mMjboHEZJTCxVOvAe09XOxD0563y27E9LMenOrA8OeX7ZHIRgAOVUEspUEdDWtk3x+Yp22\n",
       "bb4JAh0WX9pK1Kj6P8WnTDi1jZk4Dtn/MzAtDH0YQ8B0VObzagpGtKGCQz3TjpGQkHAyMFzWM2lH\n",
       "EhpkR8PBGB+SKiEV3jYFeMV2T0jOZ2BOS2z79hahLlEDibkK49nw+WiGhipvXexkRCP55GGgFEfC\n",
       "abQTkVWAOUuUetpluOxavc6R5DlxCSj5hadplQbxmkoL2j+6lNTZiCZ5MExmrfy/WY3UCnzaQinF\n",
       "nnnTfCAX+TIViNbh7SGlVJ6/qgGhTrIaKDjN0WMfb5S8bgfkZmip+tqkd0immLUfILGd89Jdqirj\n",
       "STVNOxpU3TBlYjeqihKwsFbdBqL19ZVyG7B0d9mL3wxYmlhKjRX0k1+8IhH/AEHG1g+g7jXgk4Z/\n",
       "RtbjWenibaFqaU3UMk1Wt/M+D2776Jk7qPtmSxvM9MhxULzziHu3W5ocogRAvQQAAADXQZ5CeIKf\n",
       "AAUTIPcDFM4WFPOABNalQAaLvML3+N0PeMp/IjVdcyBnCnLyFixNsZVqhv6lN9CZeZaE62YhQdEa\n",
       "muC11rR0imFsFZnvV5yGExHZsgfFkf3nh0D1uLstyYG2P6nD8rF1tFr+nrnJ8fLWDRpi/cxXeq5H\n",
       "Q/4QiUU3Yg4REAjuVfTLtBGDQZSh+uDU+uce07AX5TSGaBCPGOcQjJ8p0lEWsM1WixhhKCWtYltn\n",
       "mjj/UbSPQ1vCOfbnNPS84tlRaS2+FgqlGGI3To1SqhgTPzcR900AAADnAZ5hdEEvAA4qlMmR120w\n",
       "8QAsxayIrkFOcTcT48lB9Z5X+5F3skz++5wgOj28fzxJbZeT/GSabT5fXk1lAL+31+cF+6QC/2V0\n",
       "P5NkoQyQEKz8XR6Xw6c0vsSTzGIlQRmL748jcx4ZKj9I3setNAJmn9zilpWAYZRQ8GN/v2dc/nG6\n",
       "ME5E20VJ0rvPh/dc+3vfH0XwgIbhzccjj0lyHoK/q0IkYsZxsTT+BO6O1GfpCCewAsg+od8cdkUf\n",
       "AEKrhxh+pN30WP9LWeZzlXFRVSdE8tANf5mjGqL+O2faiOK/BUgiVF7Shi7gAAAAuAGeY2pBLwAB\n",
       "uVMY510M37TrXylAHNhyKhiYPqeZqrC52SZ/7S7lfQiYlACW36jXFJmymDyYAH9R3QtvVSLqBQGd\n",
       "CT0IJFYHJsSgZeqHnu2DYv4p+epjZNL1E05F2B1zHoE9Xhj4nejDeFcn4ejETBbKUriR831GHM6l\n",
       "2UeAFS3NWMLm7pF2n0VgyvA4jlRVWCBOFqt9nA6NDdtUeb3QPw6sgTWXfu7oy6zT1X4P/hjq6+LV\n",
       "00HHyoEAAADsQZpmSahBaJlMFPBX//7WpVAADk/QB88kmAzyn98c0B3fxmQcFVSywJ8wWMkvGwXt\n",
       "wlfjvj8mBxWo+zgV9RkUaVSM/Yh/KNR5SVF4iOvcP/6fep57fVGjaq6LhEZ9rpf+TsVShlIk+S3o\n",
       "ypGh4hXYnMOBWiIUsr2Gpmo8eW9ahwc6JqbUA2GsMHsflS3pZxpwZ51aElkt2fQsr2aeHOUWWrnq\n",
       "+F2/ocN8T10iXo2SZMsRmfInJyxI+T0N4rJBBBXnKTm596PVKKlyUttEI8zK0Qb2tTXfs8O8wAbT\n",
       "7sRukpKfXxH0YkJQoHkf7u8AAABXAZ6FakEvAAA3KmMltQAFvbwi2fj7fOouv7JygOmN8mGttYLE\n",
       "IupnN6wjy03A6nW7QCCpOz2sYUqtz3JKC+VDrAr2RAo7s4gsFal87cu/N384xgU0k0DBAAAAWEGa\n",
       "h0nhClJlMCCv//7WpVAABvK+py8sd7+bwAr02kUKdazMSAY3j01Psiq2L0dj0KkogeOnrYZC6ZAQ\n",
       "CeZ6UREQme4LEsQLhbSEE+M2EmC63otPj/UQbMEAAACCQZqoSeEOiZTAgr/+1qVQAAN9SnhqBjKz\n",
       "QAGtp2upkYF9QSf5owuATo78dLBWzgqaTxGkeQLslpFVE+GU8D+1O4C2ahkqTKMO+JalhuLiZ1RP\n",
       "WKqQXuaCPJNC+CvMxtntZs5zXD+WecyefzJCoGLeXz2kil9dypHPGD+5KSyBlPsuDgAAAIFBmslJ\n",
       "4Q8mUwIK//7WpVAAA3ld7Ki/fGnoAT9tUKezXNekrl+EqhZcjQLID5CeI7LT7YPEBqG48Lm5troZ\n",
       "Tr/Hwf7GSp8UOH/mq6EZoVruB20Y7e/iu/723cRw/5LE8wY/YjGwvb3e3ncQA1iiFa+rKHdb3mr/\n",
       "/Zq+nQV3vCCVuDgAAADCQZrqSeEPJlMCC3/+1qVQAANp+jnEmvNaM4bgBAN6J/h2A6YKG9cCtqPg\n",
       "LZ40guTdHpcPoh7esGJc+b9RDxU2qEfNfSPhPmRMIuKw3AW+OMGqw3zbuwmFC68mldtZYzXIQ3dw\n",
       "0Pr0knp2qW69C3kg/9pcJ5hEU6LTGsCZ2Xcim+Y//zd1VkyRMwVumSrkPOy+hzR75XqWTQ8EmvNg\n",
       "4RtPsVjUJfNiB05xX9cronfy0ZrANzktMJdwPIxydQB3/6/lcIcAAACiQZsLSeEPJlMCC3/+1qVQ\n",
       "AAG+pTwnJjtcBcBTWhzwe1ai5tO9y3DjrT0ttyG815+agM9b+1noHrIs3NBSFdxTS8EcHru3HNCI\n",
       "0DN4MeqGbiofRY26LhTOJJjHavWQTIaMhZH2f+p7uIk1Yjv7dDzugIvRDwlPSry1/tc/GnOJqcvS\n",
       "ecnMowzTLUhC6X7+putTalNMuivGH68gjLGwhm//rxAOAAAAgkGbLUnhDyZTBRE8Fv/+1qVQAAG+\n",
       "rOqHAkHOJ6MBWM9N8jaT5Nfa1uS3UNh90NflM2FThOdH9gfOlg6SPr4/DCarG7bBLnhA3GuIbm1S\n",
       "NGrpYXasBousVr6B108jPSZpyWEJtMAqPyDJqPWK21E2i7zddP9mwglbCAk9Zv9VYYhLvjQAAABi\n",
       "AZ9MakEvAAAGvUudyp6d8tAsAGk67bxK7w3bOOdEJ6ltnCEF1AcnHCQKW7fzTm4iVZ+1+u58VqLy\n",
       "osj9+7lL88JtbxrrpE380wWkvm5ZCdKUAu6wGhjrW4VjKJN6lmLh7TEAAACiQZtQSeEPJlMCC3/+\n",
       "1qVQAADaUfdMbYlTR7wBMeW2M5RCc63dezRBm4MFSqknki4KfwQEbO77J6OIxXVxGxzfsY9Wj3+1\n",
       "CURLjNgWP4e81/SAR5nHu50NkV3Xu3IarKEPoPwR0/r5jp33ia9vbCcJmgKSJkNPsDofZEeFYY1P\n",
       "R7VsQ5/WozgS5WN5swHK5QHoTrvEG2bGZRWHztIx5XDMvfWLAAAAXUGfbkURPBP/AAADAik5qnEs\n",
       "qsfo1hqncgBOoJk3MzH7z9M61ckIXOB90yTkF6SYa75tZhpeGyELkCT6x9TeHHH1NRJk7/KBPCQX\n",
       "azRAr8xk5vbd7zoCtLIV8/Mg+QAAAEcBn49qQS8AAAMDSnpxNgIgUIAJqTJec43EOQtfkz3RtRi2\n",
       "DI4FtqVkxoZBjtrowbkklH/OQhN8yn8L/BPEdv6VB8s8cquSkAAAALFBm5JJqEFomUwU8F///tqm\n",
       "WAAA2lcFYe20AbHCWAqoUo1cFisbKGXE7Zlb3uDjvYEYGnseIfcEyzvAYnzKCYjmK26jYuMXHA2w\n",
       "h5uWDCSsX9cKmcyyOvm2PWNiUGJKCdhwMvydKd6kjfZJOn6KozHj0Y2P1Lc31XTq6ejYdcsuP0S9\n",
       "pOL/rc2EGXI0Ibd2jc+xf98NErdU2rfiTx8xUkMgzarW2nOMdIOjhExb9b8ao8AAAABHAZ+xakEv\n",
       "AAADA0MfEeO2ACvBgIIohRRlNOXpUhR5N+MCXC6bRnTFSSeJW7qBP5P5PErYADn+XUSTc8z0V4W/\n",
       "hH2miAwbTRsAAACyQZu2SeEKUmUwILf//talUAAA2VuNAZ/0AExY4zOTEEryMkiAg9DAatFX2ZS5\n",
       "puaEvEq6/BUNElzSGBVO8pY/KXSg+8HCOtGxXxyfmt0BexKqmPj8CSjssBagjyzpwGnwJulDZijQ\n",
       "JaZ17ORquK82R3Kd6NWYQ9+9qCZ1AZR5OyNFxm7+ggEP9rQoB1lsrP1H49g/KcJiSV/oxdxmW6Kl\n",
       "NLWelf10LEAHJodRHQg9MEw7qAAAAD9Bn9RFNEwU/wAAAwCV253/bhFur3oIAD4Qjvmh+ZIbzx0o\n",
       "//zNqUNyZ3szeF+RUJYY/TI+FtM8lO8reAITb0AAAAAvAZ/zdEEvAAADAaU9OO9CsBjwAmgEk6ba\n",
       "HkN6FzimQu+xRk7aONeGONhnSv55b0kAAABAAZ/1akEvAAADAaU9OO9CrKSACceV6Mixe2mbF2I+\n",
       "LiPOgrHXdtHQzxbjM6ot5ww3zPrAIeUzr/MGWDaSZ+L6sAAAAK5Bm/hJqEFomUwU8F///tqmWAAA\n",
       "2XK60gGQ8GZPytqQav3clcK9w59suvgjiWjcY5lpUr1MimTN6gLntvc9z4DbceQ4GwWTTZPD7dnk\n",
       "u7y1QW12gsyhphQxvBc5AmWAfJuftv5V73DHKvE/rpnadwv4+jKVjyJatnf/Q/f16banzuq8G16p\n",
       "VNmfTyyQ1x8g0K8a21hKSxiUARJjQ4VcbdO+OxSWFFpaC41hBJBeHUEAAABHAZ4XakEvAAADAaRU\n",
       "ztOUwSoALjt87FE1zeBF+9wFTvKW9bEexbCM89+vyk3uo5bnpcxBnZN1+sfe4EERzappElNzf4NS\n",
       "V4EAAADPQZocSeEKUmUwIL///tqmWAAA2XK60gGQo48WLwla8EmZZns5lDkY3HdzYBRSTsZiEaam\n",
       "I2yOE1dKePPo17dkOWG34NlqZ3eJerh/1zkMGWkS2mBAIDoJuRd0tHxCS27sAxv4An/w10yFELm9\n",
       "oU2CGT8Foo08KWQtfEFji1Y0o64PUvrGM1KN8hXtMazbTTXZfXYyAYNBigSd7rtN3kkBI1vjkOlt\n",
       "ALzK7+U9Pbt4fLOlVjYHDO85fD35pr9e/5H8lWb46w5XnXhaIazULtBWAAAAXEGeOkU0TBT/AAAD\n",
       "AJZWtGo7J2qhsAFsHHEl8fTN+CeV4R2It4ZxoOWDMN1OTJDA5lEA2d5fQ2DW2W9KvJvHnqDPuTkf\n",
       "CHj3M468mYHuPp4aZ4swS73ML8sjuyqtAAAASgGeWXRBLwAAAwGmAdABdTahY/aFs4BxM7qQ5bEc\n",
       "Fld3Bvm+5rMqFs5afq5axz4U3AboMo2IY3qKObD3rPENzlUUbytEQS/2cnHQAAAATQGeW2pBLwAA\n",
       "AwGbaBxCVDcAOMxa6viJrL8QsTCv74/EVbhO4a3ipnHdbornEHcyjsK+Ww3DC3nZjmWtuv+RSeQq\n",
       "wljRKzr31l1Y2ekjAAAAqEGaQEmoQWiZTAgv//7aplgAANlyutIBkPByuQfVp1UUoW26KHmncnbb\n",
       "6Bmhp/lEY6L2Qcx5uL8sJdKh4BF1nlsPC4nDQeqnfjXm+bqVgRlST9L0bk3cMkS2oF9AKFKlePso\n",
       "i++9ab5tKPSkm7+oWNwdLxwawIBlIG2nd83GnH4gDw+e8XeNDbNVyEeq82REL7a3SV23DIxbUJLa\n",
       "OGN/bdDI2RhjaEhu1QAAAGJBnn5FESwU/wAAAwCSVra7CkxUDqxDeX2LJ8HABBbgP3GlYR/RPIwt\n",
       "ZbffIGo5YzQxSqNJqJJfcGv2ZP//oqxvNZ8iN8emY5PdVpPjNNh5d2w9LVyPrOgIg+G0A0QtxphG\n",
       "QAAAADYBnp10QS8AAAMBm1jDzqItVR+TwsAECa4WBSFuIwvdOtOIgLbiaWHPMTQupyCna0yus1yw\n",
       "6ccAAABFAZ6fakEvAAADAMsd4l2UHT+0XS8YgBCnbVxyce3NpLoT3AdSDBUv/df1bBXNaRhTA9ll\n",
       "yGFGYBAC7A09kCexfML0sU2hAAAAjkGahEmoQWyZTAgv//7aplgAANlyutIBkKORfjfoGes7psea\n",
       "Ol+ZzyYh7SlgIo9OE8ayZH4m0V7wXVFM3dAfRGMJ+E8R9AeC4ibPN6TzkMiO7SMUCCxa+WH+dQdU\n",
       "wWUMeIeXQHR/iWlwcsWqGDxkmUZrYYwbFc6VGyzfX5nxLQfM/xNgkff+sV9BOUDP1mAAAABTQZ6i\n",
       "RRUsFP8AAAMASy9do7h5bJq4k8yAAkMEMxPV+aexf3cUNuaSJo1Y9cQfe2yVcf/iMvlcNmvq40/p\n",
       "IlXxgQqgSa1q7OpORU/I64DRD//+YcEAAABJAZ7BdEEvAAADAMuIRkYBuHyPL1ACCVPc9hWQYXr5\n",
       "GPhGg8JlUbY2Nyeit/QB4iTwQtzRYjJQYPGZsoBlQKFrohCZ99HuizYXawAAADABnsNqQS8AAAMA\n",
       "0rmIt++1BvpbACIVIrZ1LEywOgIb6VuVYfSlWe2JGKGT77++f/kAAACLQZrISahBbJlMCC///tqm\n",
       "WAAA2XK60gGQ8HF9M1UQ9wupJVspUNbX9ZZyS59kwx5+PafUbhyf/4RK32Ylzrr17F3gEpoc99RI\n",
       "g0QPZBQWi8QxepON27XBtmT/zl8r96fQm9d5NQ+eBhlZZm5/wrU1RIuUtrw6PT42LW7eSS4cWE/m\n",
       "/y5X+8LY85Xk1wAAADpBnuZFFSwU/wAAAwBLLj6n9tGe+KBSVF070ADctdAMpdFMsNA9HF1ujMUx\n",
       "wKPhmep6hl7WJ90qVmbhAAAAKAGfBXRBLwAAAwDSrFHdR688gA2c5AX5gw102sdKVjQk6KhbzLdJ\n",
       "ER0AAAA2AZ8HakEvAAADANK5iMxNPSDoOwAhbPh3PBFOvJs9io0jcKWVQzsSIBNecv2vWSF4Usra\n",
       "441AAAAAmEGbC0moQWyZTAgv//7aplgAANlyutIBkKORfTNWMHPvQAg/0OfN7d5jT7PWAcV1pSJD\n",
       "HWTMpKK9Q/+ZF7magT91AO/hrsdqxn7ettDcauQFctCqzveRojHQjK2KdVogV9zgO0LnS/JOvKji\n",
       "ZXDctLiK7IrzEB62Lmsc1PYrU4DDvZFsnuRYrfvLkA8TCrlESYXmvwlgkMagAAAAOUGfKUUVLBP/\n",
       "AAADAIv31Sv6AAEKHHeDLg+qidXDhSuZwjIeFUju5av0v2zj8rgJGvr/izmfW0t9sQAAADkBn0pq\n",
       "QS8AAAMA0rmIzE09IyQYAS1rhXLKrrxx2+nsof46e9aXxHSIHMWW/N/7toA16gY6xRvx9MAAAACe\n",
       "QZtPSahBbJlMCC///tqmWAAA2XK60gGQ8HF9M/a4v87IcBD1JX9AB+alIVEYjerx3xt9/nweoc85\n",
       "mALC5DpG38xyD+Y3PlB+d2+TokytmOiFDZAya0GYd/r7Ha6g/6uOf4jhVhCODOFoSBBtuQvBuLCy\n",
       "pU4F/vBq/KTUGWtW6IYoybljOL9BlV9jKMKbQpSE/tYMzPNu8v2JBHyAsY4AAABoQZ9tRRUsFP8A\n",
       "AAMASy4/GXrgeKtXwAlrU8cZJ7T5gVfVkzvHVV3ffjJo55ICx2Ya9BIV7vC4SRvEE1UkC7ZkMixb\n",
       "oaJ+wyetDoBBg0bZjbK5PdP5aB0z/8c8F+xp/YKpjcAFL4x0jNEAAAAtAZ+MdEEvAAADANKsXwFL\n",
       "ACZwd5xRPIPpeXcybVq4rSC6bamqwUpJ9v5WiVPNAAAAKQGfjmpBLwAAAwDSuZTD8AE5GlmPhDdH\n",
       "Je6fvigNltnxnt70qQIVOXphAAAApUGbk0moQWyZTAgv//7aplgAANlyutIBkKORfsWMJPajXtIC\n",
       "oZupjG6C07Sdflxebb3N/tdAK4UiCElQKmJ7BZdtZpM6C714PrUfPF8LpyEkpDo+KFYz0QMHiaXE\n",
       "Xn8CvwGBIlRDssOz1sjPEmyR1Ba+9/nYCUKuyGpMfynndn6v1Bbns42Bru45O+vBhWzNpOwXBoYp\n",
       "S2UPcRl3dFRQadA5FgOKmAAAAFtBn7FFFSwU/wAAAwBLLj9LfwAQ6whxPKZ0EQp7VMdwGgnV/ml/\n",
       "GhwebnmPl2xcdiiNsTzMVKoYOYTd0M4NvMLSZ3ClmoH9eeWuc64uXewhOTrEtbR0h/L+sJoZAAAA\n",
       "KQGf0HRBLwAAAwDSrF/XWAE5rcj6Ey8sOWQcCU+x8/AX7tr752lFvE81AAAAKAGf0mpBLwAAAwDS\n",
       "uZTD8AE1ZSYDZUJHk2JrGhbYiKBeXaLplyDl6YAAAACpQZvXSahBbJlMCC///tqmWAAA2XK60gGQ\n",
       "8HF9M2DU2MGwhupWpdUPL6/CULxWYZ/hhTMP5DmhoudnL0IX/OcZ5ZPGb9+l9j0wZ2ah+x8hNXbA\n",
       "xnDtaJS0CMTwGN5whdpzQG2aslKMBrpdrYN11yCH4RfVAz3jWxcXGQmOouylwR6jkiSizzK7E33l\n",
       "IBpTNxJIdfL7nHJuy3eaBhyBf0bCpwq9AKlQv2sGOAAAADtBn/VFFSwU/wAAAwBLLj9LfwAQzguo\n",
       "/UWQJsmRDRxYrCoUocF/dDQk0O18NuI7hlDATsRvQ1jMNs76YQAAABoBnhR0QS8AAAMA0qxf11gB\n",
       "OemVLEypfiXf/AAAAD0BnhZqQS8AAAMA0rmU1UABNak5mfYmA91ZXM9wU5MhzZ5nPLE1Sr3bQUas\n",
       "X66RN3eZSQVpzTXiUvrdmwGRAAAAn0GaG0moQWyZTAgv//7aplgAANlyutIBkKORfTCMDfMGuazn\n",
       "OPNZlG6AJErYKmp58pXVEfvmYT9Yo133WzBGfGFrArZ9ArXaU6iH9agdhU3e+3dQ88F3msI5pL64\n",
       "6qLn6ztdp5enEcoveLf8j6cH7Zh6qwu6zkjeSH3WoAHcsHYAs97D3aH7Rbpa4ZXvDSWlmfpplBp/\n",
       "7qqT/x6NCaajHQAAADJBnjlFFSwU/wAAAwBLLj9MXAALaoHQuQ6XcJKPZnsO9zDvhLpVYyT4sguN\n",
       "EP/zxDJ/bAAAABwBnlh0QS8AAAMA0qxlP8bUABbp3txjrWoGK5LzAAAAHQGeWmpBLwAAAwDSuZTV\n",
       "QAFvbw1xOoXJjd4OKd9AAAAAvkGaX0moQWyZTAgt//7WpVAAANlxuJQD2MNsb+lrj8GBAmMWE5aO\n",
       "AIjSCSuxfU09ly8Y5p+LiS13BYOiBeffgwnDIbCu3bakw6F3EtBgnHLHwimXN8mbQiHQ6Rybbx4Q\n",
       "MH30dVJ4VO4QcXOSB3lkdlVF0OOIcckVg/TmwGMSAl2TS6R/MIkf147JrnCQvCA9RoZLRWXA/6gV\n",
       "20xJz9gVgRLlC1OZhLi08dZBmI3Y+LabYo5qAV1d1wmTwaGd0kEAAAA3QZ59RRUsFP8AAAMASy4/\n",
       "TFwAC4SFa2Oy/5FMqfSee3xS4RAr6V0r9Ukt6DPL3CxIUbD6MDDpgQAAABMBnpx0QS8AAAMA0qxl\n",
       "P6CIFubgAAAADwGenmpBLwAAAwDSuZa+CAAAAJVBmoFJqEFsmUwUTBf//tqmWAAA2XK60gGQo5F9\n",
       "guN1PoWd1JN18qYqY/RWatbG/PQuLSnt9ci8dT5M0/WS5BpdO8DoclCr4zCePGBrPJzWebaMZnzJ\n",
       "Skj6tWbq6sxOIe7P/DLlOIpjVeFpAfO7qiXuiyNY/Dfwuef/WErwSif/NbSt5O0LDWzqfx+JZA81\n",
       "tm0zUr3GoQAAACABnqBqQS8AAAMA0rR8xd81AAW4PWYDfJZA6O4FAjV6mAAAAIdBmqVJ4QpSZTAg\n",
       "v//+2qZYAAA1HKlNAFCRoPFiLYyjkQk9ZKN5nnjs2doSJkf2cq6U/NOMpdSwY1gZJqx3a7DrAQhW\n",
       "njwEboM4FDj4Od1qFU9qIAMitK3QWS4hJGJX2+NXdROrd4bf0sVGfGDKQ6br8kW7np/JHqhAvBYz\n",
       "50P3Y8mgieWmPyEAAAA3QZ7DRTRMFP8AAAMASy0sSGe2QADjHYGwzTV7X6W4+LjWKRsdc69CRKlp\n",
       "pC10ooOdqHj+xkDzHgAAACQBnuJ0QS8AAAMA0qxlPCTUABbqsiaxfCPrNYNK/IXeTmUh3U0AAAAP\n",
       "AZ7kakEvAAADANK5lr4JAAAAe0Ga6UmoQWiZTAgv//7aplgAADP2DidWUQAsKpWQ0vgOzBmx5kzm\n",
       "tygZ2vqEWAFHFwFYVZZg4N7rtROrvWuqTL7saOCa+rCD4W8n1F1TUNEBN58ICaaF3UMGW31S0uTJ\n",
       "I7hU/XgCqtl6OZn0cGvX6w4ql/St5i0z1Iux5QAAACxBnwdFESwU/wAAAwBLLj+IlpLoAH8cTzwT\n",
       "kesEDhxXJ2HCRiARWaciwpYigQAAACABnyZ0QS8AAAMA0qxlP8bUABbq2rgU7sY7RWfHgjYigAAA\n",
       "AA8BnyhqQS8AAAMA0rmWvggAAAB1QZstSahBbJlMCC///tqmWAAAM/6TVhbAAi/xVihSopJnfm+c\n",
       "sk0QBN3zcmEcY3b/ie5eF/8gbV0x4usr7Thm2IF3PwEluetG8gooG1PJNCylfyCGPsCdFJSYjCgk\n",
       "I8DRJo5QbVAWjI/DAciJ7PNPk7FNHwA5AAAAM0GfS0UVLBT/AAADAEsuP4cGSPKGAG7bgjMJpIbe\n",
       "x1Q/wY2a+NTIiN6Q++8X7aa3ZY0c4AAAAA8Bn2p0QS8AAAMA0qxiJggAAAAiAZ9sakEvAAADANK5\n",
       "mUrkagALbpH2FAVT8O0ljkqqKPZ6mQAAAEtBm3FJqEFsmUwIL//+2qZYAAAz3KOlIAbpD4KMzBrU\n",
       "wpLKtR270BAkjlSt4B1sGBUAs4vXgLVXqa2jbQ9/0Yyai6FnHFG05dl0ZFkAAAAcQZ+PRRUsFP8A\n",
       "AAMASy4/a1H+DQAM2iQNvWp9gQAAAA8Bn650QS8AAAMA0qxiJggAAAAPAZ+wakEvAAADANK5lr4I\n",
       "AAAAlUGbtUmoQWyZTAgv//7aplgAADPn3Lqr4+ogBGPmAlr5qNci3Zl0mIfcASPo6o+xZ+y0W+6T\n",
       "Huj0v0RXFnyQK7PnsmkiNqP7nW6/jL//ubBdxw7wbzm7dsRdRLBVsW++sDEoX6XXP5uPBHI8vDeJ\n",
       "LxOdIHBlHeMfU8n8b2RE+2SQ8akLyKAc5366FP98X4M4C8de+AHBAAAAMUGf00UVLBT/AAADAEsu\n",
       "P4iq/XQASyr9+dlXBI93yU2MYkxT9H8j7vP5OF6vTJ83vUwAAAAPAZ/ydEEvAAADANKsYiYIAAAA\n",
       "PAGf9GpBLwAAAwDSuZkouo92JgAlraVx2zyQHBEMjN9n8O6sSvFx2R9cmg8RIAyf5QYRQHP09ZVm\n",
       "gIepgQAAAE9Bm/lJqEFsmUwILf/+1qVQAAAz+1z6gAWEqaddQuJFAERalCkme0MSN+889S3qeeYf\n",
       "FFfeVlZzQ9e/W0VHnuIm6osc7xwtYxG3ISxMbzT4AAAAEkGeF0UVLBT/AAADAEsuP2jgQQAAAA8B\n",
       "njZ0QS8AAAMA0qxiJgkAAAAPAZ44akEvAAADANK5lr4IAAAAZkGaPUmoQWyZTAgt//7WpVAAADP9\n",
       "cyQTUAIxcKS4vb1IJqKPqbV2s/TlyfsELMUVV+KPsRyUcBKfuLL8Q/MhCjdTXiw0sRFGlSvyFry5\n",
       "XFB7cbmQXJIWFGghrDbAkDzmvfpOvoDp8QAAADRBnltFFSwU/wAAAwBLLj+Iqv10AHGcvlrFcSAa\n",
       "XMEkI2nzGJRA7sTyPAR5AvyIuvGwyDEUAAAADwGeenRBLwAAAwDSrGImCQAAABsBnnxqQS8AAAMA\n",
       "0rmZSuRqAA3OCEgATPx3TcEAAAA/QZphSahBbJlMCCn//taMsAAAZ/Y5LoAOMrhvZFEd594bFtzR\n",
       "Ad2+iVsYDA/ZH0eiNmvNyJwQZlt76FugnUTYAAAAFUGen0UVLBT/AAADAEsuP2nedGnIgAAAAA8B\n",
       "nr50QS8AAAMA0qxiJgkAAAAPAZ6gakEvAAADANK5lr4IAAAAJEGao0moQWyZTBRMEv/+tSqAAADK\n",
       "cIOoAB/D8KuuIGlzaKvSyQAAABIBnsJqQS8AAAMA0rR7iduRS4gAAAeubW9vdgAAAGxtdmhkAAAA\n",
       "AAAAAAAAAAAAAAAD6AAAw1AAAQAAAQAAAAAAAAAAAAAAAAEAAAAAAAAAAAAAAAAAAAABAAAAAAAA\n",
       "AAAAAAAAAABAAAAAAAAAAAAAAAAAAAAAAAAAAAAAAAAAAAAAAAAAAgAABth0cmFrAAAAXHRraGQA\n",
       "AAADAAAAAAAAAAAAAAABAAAAAAAAw1AAAAAAAAAAAAAAAAAAAAAAAAEAAAAAAAAAAAAAAAAAAAAB\n",
       "AAAAAAAAAAAAAAAAAABAAAAAAbAAAAEgAAAAAAAkZWR0cwAAABxlbHN0AAAAAAAAAAEAAMNQAABA\n",
       "AAABAAAAAAZQbWRpYQAAACBtZGhkAAAAAAAAAAAAAAAAAABAAAAMgABVxAAAAAAALWhkbHIAAAAA\n",
       "AAAAAHZpZGUAAAAAAAAAAAAAAABWaWRlb0hhbmRsZXIAAAAF+21pbmYAAAAUdm1oZAAAAAEAAAAA\n",
       "AAAAAAAAACRkaW5mAAAAHGRyZWYAAAAAAAAAAQAAAAx1cmwgAAAAAQAABbtzdGJsAAAAs3N0c2QA\n",
       "AAAAAAAAAQAAAKNhdmMxAAAAAAAAAAEAAAAAAAAAAAAAAAAAAAAAAbABIABIAAAASAAAAAAAAAAB\n",
       "AAAAAAAAAAAAAAAAAAAAAAAAAAAAAAAAAAAAAAAAAAAAGP//AAAAMWF2Y0MBZAAV/+EAGGdkABWs\n",
       "2UGwloQAAAMABAAAAwAQPFi2WAEABmjr48siwAAAABx1dWlka2hA8l8kT8W6OaUbzwMj8wAAAAAA\n",
       "AAAYc3R0cwAAAAAAAAABAAAAZAAAIAAAAAAUc3RzcwAAAAAAAAABAAAAAQAAAwBjdHRzAAAAAAAA\n",
       "AF4AAAABAABAAAAAAAEAAKAAAAAAAQAAQAAAAAABAAAAAAAAAAEAACAAAAAAAQAAYAAAAAABAAAg\n",
       "AAAAAAUAAEAAAAAAAQAAYAAAAAABAAAgAAAAAAEAAIAAAAAAAgAAIAAAAAABAABgAAAAAAEAACAA\n",
       "AAAAAQAAoAAAAAABAABAAAAAAAEAAAAAAAAAAQAAIAAAAAABAABgAAAAAAEAACAAAAAAAQAAoAAA\n",
       "AAABAABAAAAAAAEAAAAAAAAAAQAAIAAAAAABAACgAAAAAAEAAEAAAAAAAQAAAAAAAAABAAAgAAAA\n",
       "AAEAAKAAAAAAAQAAQAAAAAABAAAAAAAAAAEAACAAAAAAAQAAoAAAAAABAABAAAAAAAEAAAAAAAAA\n",
       "AQAAIAAAAAABAACAAAAAAAIAACAAAAAAAQAAoAAAAAABAABAAAAAAAEAAAAAAAAAAQAAIAAAAAAB\n",
       "AACgAAAAAAEAAEAAAAAAAQAAAAAAAAABAAAgAAAAAAEAAKAAAAAAAQAAQAAAAAABAAAAAAAAAAEA\n",
       "ACAAAAAAAQAAoAAAAAABAABAAAAAAAEAAAAAAAAAAQAAIAAAAAABAACgAAAAAAEAAEAAAAAAAQAA\n",
       "AAAAAAABAAAgAAAAAAEAAGAAAAAAAQAAIAAAAAABAACgAAAAAAEAAEAAAAAAAQAAAAAAAAABAAAg\n",
       "AAAAAAEAAKAAAAAAAQAAQAAAAAABAAAAAAAAAAEAACAAAAAAAQAAoAAAAAABAABAAAAAAAEAAAAA\n",
       "AAAAAQAAIAAAAAABAACgAAAAAAEAAEAAAAAAAQAAAAAAAAABAAAgAAAAAAEAAKAAAAAAAQAAQAAA\n",
       "AAABAAAAAAAAAAEAACAAAAAAAQAAoAAAAAABAABAAAAAAAEAAAAAAAAAAQAAIAAAAAABAACgAAAA\n",
       "AAEAAEAAAAAAAQAAAAAAAAABAAAgAAAAAAEAAKAAAAAAAQAAQAAAAAABAAAAAAAAAAEAACAAAAAA\n",
       "AQAAYAAAAAABAAAgAAAAABxzdHNjAAAAAAAAAAEAAAABAAAAZAAAAAEAAAGkc3RzegAAAAAAAAAA\n",
       "AAAAZAAAGn4AAAHMAAAA2wAAAOsAAAC8AAAA8AAAAFsAAABcAAAAhgAAAIUAAADGAAAApgAAAIYA\n",
       "AABmAAAApgAAAGEAAABLAAAAtQAAAEsAAAC2AAAAQwAAADMAAABEAAAAsgAAAEsAAADTAAAAYAAA\n",
       "AE4AAABRAAAArAAAAGYAAAA6AAAASQAAAJIAAABXAAAATQAAADQAAACPAAAAPgAAACwAAAA6AAAA\n",
       "nAAAAD0AAAA9AAAAogAAAGwAAAAxAAAALQAAAKkAAABfAAAALQAAACwAAACtAAAAPwAAAB4AAABB\n",
       "AAAAowAAADYAAAAgAAAAIQAAAMIAAAA7AAAAFwAAABMAAACZAAAAJAAAAIsAAAA7AAAAKAAAABMA\n",
       "AAB/AAAAMAAAACQAAAATAAAAeQAAADcAAAATAAAAJgAAAE8AAAAgAAAAEwAAABMAAACZAAAANQAA\n",
       "ABMAAABAAAAAUwAAABYAAAATAAAAEwAAAGoAAAA4AAAAEwAAAB8AAABDAAAAGQAAABMAAAATAAAA\n",
       "KAAAABYAAAAUc3RjbwAAAAAAAAABAAAALAAAAGJ1ZHRhAAAAWm1ldGEAAAAAAAAAIWhkbHIAAAAA\n",
       "AAAAAG1kaXJhcHBsAAAAAAAAAAAAAAAALWlsc3QAAAAlqXRvbwAAAB1kYXRhAAAAAQAAAABMYXZm\n",
       "NTguMTIuMTAw\n",
       "\">\n",
       "  Your browser does not support the video tag.\n",
       "</video>"
      ],
      "text/plain": [
       "<IPython.core.display.HTML object>"
      ]
     },
     "execution_count": 21,
     "metadata": {},
     "output_type": "execute_result"
    }
   ],
   "source": [
    "HTML(anim.to_html5_video())"
   ]
  },
  {
   "cell_type": "markdown",
   "metadata": {},
   "source": [
    "改变一些参数，例如学习率，初始值时会有什么不同。"
   ]
  },
  {
   "cell_type": "markdown",
   "metadata": {},
   "source": [
    "学习率非常大:"
   ]
  },
  {
   "cell_type": "code",
   "execution_count": 37,
   "metadata": {},
   "outputs": [],
   "source": [
    "%%capture\n",
    "%matplotlib inline\n",
    "lr = 0.075\n",
    "initial_x = -3\n",
    "max_iterations = 100\n",
    "anim = show_anim(X, Y, f, df, max_iterations, lr, initial_x)"
   ]
  },
  {
   "cell_type": "code",
   "execution_count": 38,
   "metadata": {},
   "outputs": [
    {
     "data": {
      "text/html": [
       "<video width=\"432\" height=\"288\" controls autoplay loop>\n",
       "  <source type=\"video/mp4\" src=\"data:video/mp4;base64,AAAAHGZ0eXBNNFYgAAACAGlzb21pc28yYXZjMQAAAAhmcmVlAAA8Cm1kYXQAAAKtBgX//6ncRem9\n",
       "5tlIt5Ys2CDZI+7veDI2NCAtIGNvcmUgMTUyIHIyODU0IGU5YTU5MDMgLSBILjI2NC9NUEVHLTQg\n",
       "QVZDIGNvZGVjIC0gQ29weWxlZnQgMjAwMy0yMDE3IC0gaHR0cDovL3d3dy52aWRlb2xhbi5vcmcv\n",
       "eDI2NC5odG1sIC0gb3B0aW9uczogY2FiYWM9MSByZWY9MyBkZWJsb2NrPTE6MDowIGFuYWx5c2U9\n",
       "MHgzOjB4MTEzIG1lPWhleCBzdWJtZT03IHBzeT0xIHBzeV9yZD0xLjAwOjAuMDAgbWl4ZWRfcmVm\n",
       "PTEgbWVfcmFuZ2U9MTYgY2hyb21hX21lPTEgdHJlbGxpcz0xIDh4OGRjdD0xIGNxbT0wIGRlYWR6\n",
       "b25lPTIxLDExIGZhc3RfcHNraXA9MSBjaHJvbWFfcXBfb2Zmc2V0PS0yIHRocmVhZHM9NiBsb29r\n",
       "YWhlYWRfdGhyZWFkcz0xIHNsaWNlZF90aHJlYWRzPTAgbnI9MCBkZWNpbWF0ZT0xIGludGVybGFj\n",
       "ZWQ9MCBibHVyYXlfY29tcGF0PTAgY29uc3RyYWluZWRfaW50cmE9MCBiZnJhbWVzPTMgYl9weXJh\n",
       "bWlkPTIgYl9hZGFwdD0xIGJfYmlhcz0wIGRpcmVjdD0xIHdlaWdodGI9MSBvcGVuX2dvcD0wIHdl\n",
       "aWdodHA9MiBrZXlpbnQ9MjUwIGtleWludF9taW49MiBzY2VuZWN1dD00MCBpbnRyYV9yZWZyZXNo\n",
       "PTAgcmNfbG9va2FoZWFkPTQwIHJjPWNyZiBtYnRyZWU9MSBjcmY9MjMuMCBxY29tcD0wLjYwIHFw\n",
       "bWluPTAgcXBtYXg9NjkgcXBzdGVwPTQgaXBfcmF0aW89MS40MCBhcT0xOjEuMDAAgAAAG6BliIQA\n",
       "F//+99S3zLLtU2+2C6j3op4mX0N1JQGblsTtOoAAAAMABnddzdfZ7UFwH2gAB6g//99ROgPEAbuA\n",
       "xkKI7UnrD772iEybwcbXJrDnkAHaI59m78yGy/Pk8VKMIu+N9E3lHuxj3WPXdSK2I5ZHflPxMlJG\n",
       "9SYznA4fne8bKGwQc11pa145g9PK8Q8+2Odxp82qgSWh9cEuWuZWF9UielE7xg/OrpyCTDPWaVHw\n",
       "6/XMFWn9av5Ioqdw5An0Ugof4w2HTQoEg+DvyvtobGORfkyoZBII08QaZwb9S8opp1AW0Fe+h5tE\n",
       "WH2ZrO9HLz/TxiR+f8u7HhFcCYulaPRniAGTyKk0o2RZDLpnQjmMsNkzANlB3is0UCyrZ0ErJVtz\n",
       "WOkKvVPWQdns268TZt+Ryp9t8KBF6xTUNLhkIPySju6iI4/Cocqrw+NKlVcxb/b7U7qmkOhlIEXT\n",
       "a8tu3zamEodkl53U/N+vFOEjzfPSttc/Ahgu43bcF7vpFJM3rNXD8pfIq6C7rnfVboCG+724vpmR\n",
       "cG38yw4eYZ8Ec8p0Db/M+GYd21RPkOhr1A77mcG8bzlXpTHQKvf0OO9WB3FROE+3snVRMJAjWQtK\n",
       "KdqaNHg1vMi29TNq93Wmbeq2zZQ0lvVQXxMENFBNVWrV2ZuMuuSX2oD9Y29zTlRtHauCclYpRyHX\n",
       "MsLWvelFYcId35FL/maxiJBK5fScoQbDX7Gl6Ymjlbdka1oOHzOu5XZN4zuDYgxfF0NRKgplEaJO\n",
       "mgs0nm74GL1M3OBZfX8gaGZxap1p+DL9jAmPypTxSXxPW/5eQxl9FnwI1NOB4I3SSh4HhWkr/rh0\n",
       "3EaVAfIL4WaE1jIYEvCXhZDCrXmLaxD3MjsiOd9pUpRjL1uUTXV7tLDKOYBs8w4U0p1NEcXGeKq+\n",
       "q6oQ7TTsMvF9zRnE+LWkVl04LTvqOHhoIm8nhKOqrzeswjREjamsrpz3GxgH9kYzJPf2gmn8rmQe\n",
       "LnH9DQkqGmfO9JWdQ9JneXsi/TSDptodZ4qEB+JA2SlyQa/hfuh9CK2f048siGRDzgTdxRFEWfJn\n",
       "hPHW4BDpCNZjBYDx7LuvsBD6M8mmmDDgCLAYCE1dhULVEBVgbJUelMGRvWV/7KH6OKvbrFXePmyL\n",
       "wQpy805S7H6GRgteuuLhUjj4BBStjzTcGUeayT5qFzaBVDKHSmDIf7Pwq58YD8vbN1NPdzIj9klI\n",
       "lMyjWI/77sU/+SOifEiGqHdXCRnoHz2rEk0nT3c6qPkeJldvzK6cS969L6RJC3b8Q9+MNvioMkPQ\n",
       "dqZnH2fr1a/fak5NFiHt90WTLaApJhfCAnrFRT2qN3m9b+8ToqDNOf+42fs9y2LNL5WnKZXlfwFP\n",
       "mDxrFU55lpaZSf8ObuGBE7m4eggG0LXJOSo3wTjPFww2OxE58mwRBvClslw88VZIU6ir+EtDFutW\n",
       "Qoo1pAtougwqAMvwiMp8vr6vtfL2vvzIHjyOVyq2p135stiR+AxnE801Ybmsqebe5PxU/8oSSDcT\n",
       "oL/wAr3pdXPIM4X+CGr4PY/A93a+nLpto/Trw3/qT+sxH5RkciSiLYzr7KSm5Q80/RYL7/WABIyP\n",
       "l+v2fdHKJJItlS4wnr5R+sC4xT+MgSq3nCJd5Vqvwm3vqKpuI/K0Q7kX+R4JaFumS0EFuaWUEGBe\n",
       "erUb4j0i2xRyfBjqDpsDZffEKrZeuaOHhk9yUJUNki14Qx7hA87n8DX2nw4r6A19r7HGqgt700Qo\n",
       "v455T0ASBlvEDTQdvvZS5FO5Mv0k3GuqdK+wVBfcyXRKKCIVpKVCZdnwr3MFKoVq6RcbHwFivTaH\n",
       "zw1UBZ0NFFnbkzp67ohqkBaXiWQXwrbqAG3+YuYOViIHtAac38tFLpiei55+dQnElfLnvSBQsPNk\n",
       "oH9FOrNA/VxGAtZv7Q0rWFXjAjLRc11NIgi50tUjH1knrl+5Ykm3k5CkeopKGvMa9XcPw+tBvBSZ\n",
       "cZlMGdCLyHvoE5WFfUForcay/mpymyGWzbIlIygC/h3nACPcA25qOz/AVo4CSACiJXHA7LiTYIUc\n",
       "rp3mIp8RUGXK+/9llASzZnrWeLpXsXMgEl6wMiVdXxOR84E+ABzRpu/Q5dDlp2HTiwKM6AAFY/ov\n",
       "ZT7B+Pe+Pj/YPWOxjjFPUZwjxPecBvl1SMLCUFQ3P/cFOn0aKDdEjfeCAZY6GRykVRoYeRKY9xGN\n",
       "u7blA8UEzgajy2fiy1D+VngW3gIgSxUPON3wWyylisRGlto+9J5aYJZSpWdGEDdJGpD+9iQkYfPQ\n",
       "K02rmkcYU0X1vnBZjVzBkcVUmC/cOFLrG7EOgmDAlMgjND6or5XBULAbp+VMxDT5oGLjY+rqDllf\n",
       "dqvSq0QDR+2MzmHa/IaUtLK+L5gS2Q+4YSm3twr+UHjqyLUtkKKIgj3KFraoUsQ6U46GpbyP+dyG\n",
       "pMJRs1VKH5xWPkImdzgKS7f4wjoVmgiYTP+A2jsggeYDzuOMO+JDME10GhIcIhBWosYItt1cgGw6\n",
       "o8O6dTvDCGEXm0Uw0aclAQii+2A1tJE3zRyK8jUXf+zMd/Jn9xTbJ80ahaUasdJzw/fgthiuW2WF\n",
       "C+SZa5WFTosAbc8zFO3Ofh4RYPpoSi5XTMRYwKW1huaiY/ehDpvQ255tWCHqGx2PJLu2vpmfyB/6\n",
       "DAj3KgLMEj/qVTrW+fvU6axSCsNL3l+/UF+tzC+v5BC0t+UxalIonOCLdxLSEaqDoNoD8p/gvuKK\n",
       "i44le07iP1H3E6uZNC7bK0c3+0FikI6ea2p5lwLq/CcAAdkf/gUVfzKem1o7pGh7LE1Y6U1O2xwz\n",
       "C2qSrEzHSfkBZvlTZ2rzcpMd8qDt/hCq863zocqokl278PIgjnCzDnLyNngRWTMnjuDlC5DWds+J\n",
       "1VyHkMGxOhU//qDc8G3omfm1vGC9VMdr0/uRIjBVK/FELQ0GtG7DgdOPO4fqVzWeP7CeK4/lfG5W\n",
       "PVa2dyB7cTw1V/1ik8Z0H/uyVqO/O6I/sKqnwi2aThpZSJR5rgrtsDKhQsmiqYjP/lNbqjBJfGua\n",
       "aKDDXOOVykjThrPVg3zmt++rVdFhPbrGI2H82Dv0Jaez8UpAoKqhLhv3dhWXGxw0qx8QWFg59GcA\n",
       "0SYLSp3G1QG0HofUBH1NXVOSn2veeacPfn4KUQjbF8eCYqBEIl6DKPaDwpvUGqmdBphs8u2JbVza\n",
       "342zPrhYpDUs+D7WjeEvLVkidE45jaUHcQlXfiX0nGcgtTyRPUOmatdgcFGr410l9keN7pSOBOiQ\n",
       "65YvouSSn4NDUoZm4SpOuPDDr+9ZVRKDHGTLi3o7t3zLuP5ltSnrs3nnUL6LKnxu3Vl93zgRzyyS\n",
       "CpFj23iFs1RSUrf/xi0BpsrteMy3WK7H366l+tWN3yzxj/rJyCavpOoCPnFJR2CqR2HUpUawqrsh\n",
       "HXLUGnc9Inq/IcFSkW+HmTCRbtSIEXNaDue7E0nugzD/u3q8FimdxOlpd0TteO4lEcRIlljX/ZYZ\n",
       "9IiLcySCK1cY1GDNlttFbclbRSB0A/fAj4QY28EK6EcWW0N9WhfkMr3QQ0rUTtp8xaYejS7V+Jho\n",
       "qfAnGri8+IIEzMX49aYx6JWJ9fZLe59cKBN3DnZQA8Gb3rx5bX55bg4HPsg6KbcQ3Luft4p0avTQ\n",
       "s+TV3trBwbfMC7qbBUkS7+3X3Sb7d7Q+UXTgK5R4+6RO+LNT1VhC4+uam/NgTLBWwainjrwjfLDR\n",
       "DSgg6VahDH2uksuscNmr7LcBxdrqF1Pnqjfje/k19rdIs6/StqCKdcpEmwG8qD39zm2yywyug/8B\n",
       "CDqn2rz145E4+ve6aHvSdEQY0ONXwpNtGs/1C4FlzekMjsCLkL08PCtrmkRhVTIYhkqG9Ncg/mKw\n",
       "H9DaixOHSWoBV+FKpyDagsiNTqrk7UcdG/5PGs+PHsAkXAyI/gIoj82XaXDyGN7m3Io9OSZr8pLO\n",
       "vsdwg/hmAwSkjEGQxmzfJi29y1bjnjQ6ABqUpxN8LR+ZcH9ocoovW4+1h5doYI8kqTsj9Av5Ibcj\n",
       "JdikKUOp8JXlOWOtE5AcPCNf9+CUC1QvmoqJ+f+UJVK7K+sAy5rnA4DGnSTQbp5W8k2cJ10jvXdI\n",
       "ek+YW751gZ6/2pveVm+6evfDh/8XbrO8si9aI25l2T6Kk02xh/zB36BglyOr19w0mYIN26bQqPFw\n",
       "toq/Bh/R1wypiGOI4IDrpMnvCkEZSmxCwBr834yKRoUStFZcHpQIFSsdd0u7dUIuF3t9lZKrPxzu\n",
       "MkRJuVMD4If/luwPP+hDV97qxGXienTwxG36hrkWxPsXUE1QxbqhFFm3aYgbKXkvEZPfGTVkjywI\n",
       "/k/SjfM94PGgANei0JIKgptJL9W0qR+gWwRKiBvIGqST+8s/ZFKm96ws2fp3ZT3HqjtvLRlePS7r\n",
       "SzitseQEP4VFK8/bCo99ISKgzlzqlMuM7CV1r7vkXOYqFH9IK96S8Inu/1dB9b/k5xWHEegBHFU+\n",
       "zghGwt9+K26nTV+neEsVcTsnFc2Je17AHtQ9q4KZcRa26JeXJ8nAlq2j7d0V150oKitcqvd6fY4u\n",
       "5zsSv21YNhY07JF/Fa5WR0poEzORCibKixMy5etsFpvzss2C1Ll8nlrqQdcpw18q/XON53e460Hi\n",
       "+S2tS0yLkzMD1oFGNDu4GUqXZMnGWVDbE+XEI2TJ8gZvdUEF4gY9OJ4zfCrrx6+xUhU25i/nTH23\n",
       "BB3E79pG4UaTWYCha/yBjzxbJw6g7RgEgiZGR3B30CSXxp8DjCh8otfdKlCoV4PCFpI6B8aGVa4l\n",
       "Jj/2st5bP0iCC9GtLwDhnvI2mBbg6FOrM86Hed5zJfnhWxBzEOURK4giptfbKhA+3e4bHcZhl5bH\n",
       "ww6Yz7ArygGkCTJCprETVqZq8glj3AhYBCUp2SgW5F9+U60dOvyXIRmgOuykWA9MZyat3oFJlNiO\n",
       "bp1nlZbmGUIq04OJBxoVnDedTPOixudMfcUVBG7yMkzbOvgfwVPdMLlc8r9rx1/iGceVf6d1/Nda\n",
       "pn+qwWX+uqAtIEqO4fscCVVOMnCzmD7Tt2gIg0MESKD8ngQ86kQi7p71EpWWGTmWS6Ip+K5UbwCG\n",
       "laEopGxdTwa/dXYKZ5JCZTfsAPp1YhtSh6OU+51dCMRrg5TC0YXwDeaIA6GP3pGjNx27J4+t6I/X\n",
       "OmWbpdgaoY1ml7ZmNu5vv2TiwJuIGHBrtmEkKe9+H3ebVFeRBNTwF5dcy3nWs60Gw5mNbk77VIki\n",
       "7vvLE60SXh25FtHhF5ABTwZDUQSWawkWZOEV//RV+eqUQkcEO77r2OE2OubMPnzILYgR+NhitxDl\n",
       "N9tIwVDOzWwd0wT+rSLV6/Iij3/sR56K7H0KoziPg1SMcSjDJyVZJoFL/VHHhD4J9eA/zDftORhi\n",
       "F4oj89qFHtgfgofzIqnED0Pe95gfQFFMMo+ZYYP/wj+mo8BE7skEqP/+p/+9C8brfXvHm5jxlvsr\n",
       "ABN2cIyAL4LFYWONo1VNNOAx+4a4fPbA31oHSBTPAUsl17QqzTXwDFEUY41n/w9CIvKjgXarnI1V\n",
       "KvQRi3czsG7n4Kc6I222Q9z4zpCaRZGYGwfTZ6wVnjiMlOwN7zZPKuhbzL0hnJ1prqSrgYhcCYgW\n",
       "jpYG8ed8xyh+HYc+olS84nGtLA47eJ+BmpTJls2/tYsl+8jPglOsb9aX8RQ6f/TnwjRw7VbAoP2y\n",
       "CJmT0r1guQAY2NGP4Q50emM6yplxLOCKAu+WygHnPh0j2cQq1jykjKceukwYCKMTHLNbqC1KnsQr\n",
       "o3A+nsamNME6f7o1lWp75L2ApEO1iOgXS4sGhTCC/1mxhqbMh4u93GDjk4AJR3x6jNBOr15/Z6O+\n",
       "xXHuU6b0gi9g5f/8AyPuw34LCIcidfrR4n/Rx7rbAv7A3P+JifW5H7b7m6LEOpER7NVni9nl9Vkw\n",
       "AgOpvUT9ugLmhpanpuqX7+O8HYszsU01kHBQ9+Gq29XkSUNuwhIXJ4cpy081dx7wA4yubQaU0KVr\n",
       "rmZ7iSvvzx6P13p9kCFqUU7JD+gQZab2cZFYclLLp4KbSQW8pke539dV7xecDSdgp2O3HSqPYjZW\n",
       "5CANmE/5B6YXki7wJFbROEpsOy1V9jRrYXZKXTqQ4A/8GiZfNnugoUTN26hsNlquMMBE9catOmCv\n",
       "9y5VwIQCzcJtaKy2B7eX5ur4jXjFrhK8xZyRgz8iLNonoA5PkWc6awJtiJS0JG646cPzdBGebKAx\n",
       "ku0NeCytrDuoEY2qtbEekTFtuQqim3lmgvjfMbLzI8B39Nj0WPNNeU5AQR8ccRMiaoGiUBm2Jips\n",
       "ezR7/ZiHY67FfHVUqiNVTxwBSvhClehIorbRHAVtXCehIFc9dPymyxAHHZPvMyF6pAmraGLGBH4P\n",
       "kdbCN25jH63Ou8qHpaFj+SlyJoqYzAjPyt30CEWJrKzQMkvjUhsqGEvUu4bvV8YFOxpUlN7TVCjj\n",
       "NlSwj4NYzAiGLiIqilrq27ixlnylXgANkhKiyK5JIIMn6QCAQ5Zz2Huqe/wEqn7uXWGsCvUdhb9a\n",
       "agK5EfKvJez/WO9D49sVl0OX8zJv7LFwa6QJgni3/Zgq1ZjPzDcAdVfqehpkNWVB8vUIg7aQzcRh\n",
       "EAwHijW7zoX2Or5y+MKgNCmmo9ORez5f6TcLWghemJ6/WMeJiB8vM9e90XWOGLchYD6byRnwHXFo\n",
       "mBnJr5pKSB2pACSqoM1PyCbPkmySvkT59WEwfrPNrZ7cvk5hbHGk7mOuI76EdjlWOIv9yAe8/QpD\n",
       "0Nvrpi+BFkeQXwX5ojgi9qceY0j44DA5j8Fzq4+kHyTvJNWr2EocFgVUm3z8dfmThnmXujUUiCiZ\n",
       "FaoHR7Wm/gRbWOA36+3wUGo6npEURGoMrZC0Q5GqUhjDPRazPj9Drvkq0wg7ZwWVJTHwoER30G2u\n",
       "TNYvLdS+DGW2teYjDMlLDptZcan14t+llbTuzcACnBI58r5cY9VODow2zcDEVEdp+z703TmMPZv8\n",
       "OBdTFwIxbIh5ML5Ee9521p2UgOCX05g4xZLtIUIJzkA5+0ppqBoM4YdXFWyB0GtYQk8fclTxwDAq\n",
       "6uzo9RsDHNAa/D1yIqOcBZlzGSWPG8A6j3MToZNg02DINalDkhrg4w+sKdM+qRaRqbdw4wuW4eHW\n",
       "fbkYBQ5IipbEEE99QVWIMJbXBa45zLuuwy4FzVx1bSM0EAZZvXpWgLATY+HdYVE4U7/cpIGjqG7A\n",
       "rBefWsmJu/qmqq8C1Ot8hQ/1QQr0pgGwp0QFuc6htFtev9N1x5S6WVv4+29FiXiwCNudFvFuNf3q\n",
       "Wj9YXoFSwmtoJx8pTjmOKvw0NzQjEfmVYPiIcvef9TFChffHJDbwfkRbQUhdNdJkLUIXFULZo4cO\n",
       "eSJKIZRbKROcO6BeNrus04t8047lh/yjKx5O2puYztbSow+neTfmwQbvUGGQWaYZ6ERv1OrzbOn2\n",
       "AHyFCZDLNuKpj6kpZ5BTBuGtIMgrVhwSN7lvE6dikeECZp2Irio96il6ipoNhl4WxVeyd8sRCtdt\n",
       "G5sadHRq0iEV4hScHlupY64gAYtvmiYmqYlNAcZgLhVbGe/nxZB6suGwU05r98uhV9EKwbdYtJxh\n",
       "awOd/QSeyg7JBpf/gaRbgq2P8s4DnG/7VBdf8bngWQdkp3x8K40kBbvpfT1ckiqxvOlFANI93+kC\n",
       "6ZyXTTmoipuTvpkqUEsra+rX/87Yzqjbd6OwFQHaKf0Y9vK96wiGf/MJpzs0t+ZSjrRhjFBU4LTV\n",
       "kOzmTOq+LmuzG6Tuyfjghi4O6dovTs9XWgeQ1bnVMqodPv3AIrZoScwhQgO/2hzFYeeG5i/ngm3p\n",
       "m3oWxIh7o2JGwAXChDvsxc3jReRUhHWjwKBA7taE+AvRWKEJwKTLEU8xBtYxOhoKcmOq2g3VFRiF\n",
       "7/58WgpWbRCbjEjoI/nJX3xr7q/vsg4K8mTgImQjV9N2FWP9rC40NUyOhMf1R8HGpw/uK3+ln3zq\n",
       "QqNmnttpR07NXw/F6KvmcPNcncieu/zjfFPgPwgYJxMBVM921u6ZtkMwQe7XHBiQWyqmKCbQSQI5\n",
       "8baSD+kF8UZGiRenZwKT4NwEvvWPEYd0b3dXiUUm255EoNPjGoFOFxWKFYnaOGsxTwh2RFgXt3JD\n",
       "3XjEx5XAN43/xhyvmZAV9BJNLMHNT5nHw5IohRuJGvM/PuZ54uNKpwvTlhUwq1C+6KY4hTkD3Bk5\n",
       "//3kTrSY3RrNO4KNo7XC6WerZlrLQ1XyhNOQBYYEQAgMPcl7IzOq5cktxpdQE1NtvtacqkOfW10X\n",
       "mHZrdv3/l4viyhdw7jhm08BROXBLl86J247REmEDOUhr+ylfqtwocxLnrRpkxkGcXlMH8DwTQlDq\n",
       "tYYHezFnocSGz8vGJsl1KNTTvVjLRpPk8LCpbCzZMpgRoR4ePaIUlUW4u9bHnVvhlpBKem6E69RK\n",
       "KKWFTHlX9h/kWBhUvKXpVCbIOYnXZPJo80jkQqtiyfYcWRU/babbnn58jmVhfivr5SdXXAXTu+qN\n",
       "wOqanjbKUeyEr4SQ8K4XWiOV//vkHOyU85oPTQqNwXKrHDFUMgtky6eZza96a/lFIxUty+IVckRn\n",
       "T3DCZHtCVotIP8eVO9CM6tf9Cv00sc4tIoemANOIMWRXcGsbf50i3W1EjhDny5+vYKTeN9irWTlX\n",
       "lco+R7MIaDHCsfRJGL+yFjkaGVgo2fy/J87OQbUuibbmeBv/5OMm8Z8xGaX2I8ZZC24Lu4zrRAQt\n",
       "CngJsUW/eSgVTiHBNY26vJDybyu+RfLRIKDK05WmixOXlNY2TiXqTX15ke+29TmN8fa6SYnfRxtI\n",
       "EVvTz7poniG2VLHpXA/Z/kvvQyfwss3roejEQa0nkM3g1iS/HbPjF2EZu2MGnEfV5/TbiLmuOZQI\n",
       "vTYz5VOhtrst0SVeynGbhwoPsxGStYg50Qs4pOiLQhhoIGuQ+XHvqVsOpM/yN2pPwzgcT3Vwr1O3\n",
       "46FwEwCr1h+7orp2xkGQBDMTxcAEZ4GMJN6kAq7B8gLCmUt1ScHNamfYzEmJZajcY1duRx8hSfcC\n",
       "udHplaMHaJhZzXJYsDVHsCCpo9A0WvhwrhAxCP3kwk2aWhJoOcpo88gBU5jfu+OZayL2KYHHfTQx\n",
       "jHbswzHw1BJRKVPeqJgKXXiS2CEk54TV0QG0f/7//X87n/2VS9evYhi+QrXj0MTij5wUJKrBoou3\n",
       "WSEetYOk5U5pEIqDrICMkV7Qzx1nDpQ4DfhNINE+mbu1bMulGXEzRqCL66Kz3jix5gwbvY4W1Bal\n",
       "LsVFKkw6cbzZoHbivpUFht2nYzgAxObITFOrwILXOV+ydyRBG+vWAtf76rOdCFQIZmTrWAqEuD1K\n",
       "nTe9lYN4At9y9ySu9O52LmUbVEkkq/C1ouX6aM/dMDsB94RYiCWILbuJUvJblMybcpTgLgAAAwKf\n",
       "AAABpEGaJGxBf/7aplgEUJ5/hTtgAnvdRPnZ5jbdqfYuR79YC1DRLJdnW702cXOQ3UHOBRfosGbD\n",
       "5aXxDI0lkpbzSjK5vNQUHUqecKB7FpfHA6wAACDav0Sfjuww6oJvjgyZ6oT/cOgjXhtovrfcg2Y/\n",
       "maJ0U34CKgCujK4IhTojNiWCtMEba1cSh+gBq/hYOOQE0NL9Seopj+qnFjSWy59wTk1SjGbrK40a\n",
       "WRWKI2PPtqI1tGYeufz8uqC1p6bXA3dK+WlyetZVKN1FeDEF6ArhJDRd65BC+cHZdqfsajlaNmjM\n",
       "iRoanZJrXBnGrpyCgFjSxOvQPc9rBvn5h29TI/MhnpiTeLs84ASaxkpAZUBozUJDLb1ULsbS6WWN\n",
       "eYAd+wMj0Ng6uuiz68YRtK5jq1QdPPoNczi6gN/D8K0/el7rGxrz/m6NZwmGFaVuAKAPA7ibjROp\n",
       "a/SYHgQl9ZE2JXqaWKCyaQXRAB01zX9xDdMp9Q7zyN0bJ+skDZcAPtSnz0gwpl5hp+fitq5HmUnP\n",
       "1d0WHurRQw1rulT/cV9/KMa6MpO5hNkyoAAAAONBnkJ4gp8ABO61qYOS476vK1HefGPqLZRxBQAD\n",
       "AzfH9g1gBLluGo+FMfXjLjuCykjsM2FWBXHR8znBT1T7090gpkgze0xmkkWL4zsXlD76bqvsfp/F\n",
       "4NGbcp29hhWbic/OqelfnHhqnnP2TXHJfW/NMurylBjNTZpnhkOGkshVh071jNwVyWUOMwgEZytr\n",
       "6rFDlaB9RNdfxKOd8FKbz7aC5CHbnCqMxByHJrh0OyUoGVpym+23hgqnsTou4VFIQ08cTBDn8iTi\n",
       "RA4hQS0YCO1vfpJddPDo9b3xjTEZtIfupaqyYQAABKUBnmF0QS8ADdLF3wdxyrKxaLsYDPfnw8BZ\n",
       "kaAB4ngAt1xyNgzfzdJQwXBZ71fyUcq20meK2uYmmmu1DE04Zd3MMlAScoh7/3IR7TeNrSzMpKeB\n",
       "5Tycd+EFRmNcHjmedcdLqYUyTqTkmkUH46VYaRWRrLtsnGBExnotx1wjlBF7w4RCJ1/NWT4PEUkO\n",
       "0j/fc3676fur7eKioiOBR3Ex9g3MahOGX3P0DVV/noLOephzLy3Bj0T74mwmKTu9TGmwAgC3YfUC\n",
       "b6x+cRgeH1thl1MH0uVwuw0wuYHHtJ0Nxyzvogpau5M0i6JMj3cjWvRY9qqG2s+XonwUtBip2tiL\n",
       "0hftVOUcVV2Vn5fgage5wmo2vpYJr4JGQh79JfuIVFdOcbjqPXmiZHrXXWJkAVYquk+NTSSKrt5Y\n",
       "556QKBkZmtEAhTcewnEMj+SiNB1AP1mr1kPQMvee0fZmfdYbaYPjut+/JTYKIaGe+X8Lyyeqb6EI\n",
       "LWsIFbBvbMnYfEIN967s01Gi5eQUwbsYAeZige0kLJjiKzM+jlTsxqiS/l55ibCvvqa8M7qRdLIw\n",
       "3uY/iWD0Hbt+CyvboHkHlhDOAPhGThxp9cMEjn93Ao7MsPbsf/lm+AzOnwTKd1xH7HNBBnzo/p1H\n",
       "DM1MNEOAyKLiatZdCERxb1oofNlFVoVZQkUUXDPkXWlkS+0Q7W0eWEK1KmRQPNOqF6eNfOuo6RxP\n",
       "fem4BdjlWY977n94pvKWO3U4y9Z//QkepKfdDAtM3Vej5UPNb5bfb1BP+irOlEzsPJmwnZwysq88\n",
       "JWWnGzAdhNV/zhPpDU8XskGpIpH2QunFia8txKa0WQWh0o87QayGXJHTlhPAywlXTKlKQOiodM1z\n",
       "ffgPXoL68gDeK1Cq+r6EMElWNQxncOqIBoCLo3n8k4FiEzbbG7MQsjx4KzMpnB2PPwzV3vjNIHfd\n",
       "xEcSIUbqxrpQeOnIV4OcssF72QYnciM3G0Ut0fY/3lJN05qwPjdoNyXXPXXxZw6ZiR2W4esfkpvr\n",
       "6Tgu0fK+w9m69ceV3BNotKNRP8blZ9mcB2g22+NV23YW11fN4pFcEbL2Xpgp8mnqRQYEM6B4oayb\n",
       "BD9GkQbeKzcEPhgXVEkREJsCrK49lxVXAl3J2d7fJNC1VkJMR3tEG+bZjD2lnCAjuL/Vbu5epyoL\n",
       "X+IKMPIGV4fjJiBpNbdoIVO1s4BhL41d+gJa6yQPZ/tdfgYHXGeCFOpaJ3zONTNWoXyC8qIBVFUo\n",
       "jXj4Yap3OC52/Vv/jkiLSlASjchd/ncLs7M4KNQRaFCJu5+vj52kVm9VQarZ6q7Eh3yqupyZTKAf\n",
       "xBVN2qMhv8yFnRFNTnNIbPeNw7jieyju5LUmghhPO0OFwDLmQxhPuWUvPxsV2vkLkJs1tVdA97Of\n",
       "j5vDHtqP1Kaz3vMkVS6Yr/aj1N7QZm12uZyXWhLOXsdts15BoMxd+efoi7wMOxCXvxcFCKjHzIP8\n",
       "q2MDYKJYy4yf/nexRUnqSD7TTfFkjCCRMTRPm9RCIayO40Rei8I6DGEfXcga08qTzYGzxvMvpxtu\n",
       "6UxHM3XP0a4OBUUdnAqp3C8reY6MKZuzAAAAkgGeY2pBLwAAAwDNqYoM6fts8JMAJ2ODXIDuFPZ6\n",
       "GfvinIIwGSHr/v/iQhDPKUz+FUdhjkpyuMTnEcLB7tCe51vq6Kelik8EtE/EpV/mY+3snew8Ujx4\n",
       "HFAlFtrhyB9OEacC8pu49TNTNMy7hVWI3n1c5qAJuBvX+b/2pm99HeUBteQbB0qkG5e8P00zIY8g\n",
       "nIjBAAAAR0GaaEmoQWiZTAgv//7aplgAADKco6UgKDtGdC+EFIxCRByciHuTibONcR+qe4XZC36g\n",
       "WGLnEJdPNGOPb8Qj2/84CX4A2g2BAAAAEUGehkURLBT/AAADACKVrcxXAAAAXgGepXRBLwAAAwDJ\n",
       "AOgBGLjkgnLYMiycdcssDC8L2su4tZMiqkzON+bQpc0T/uiDwmoL/m2fya9kMmGcXgSTGdNyNvX0\n",
       "iT/J1iQv/6+0cAzeMlpidZqkItyM4CaCQaMAAABkAZ6nakEvAAADAMkA6AEYuOR/bcLafffK6YUr\n",
       "RM8FHhGtsmxEM7PZrKnFsrUs6mchkG2V/tawNSfM9Hda5IVusURbtoqO3I28oiNaq/MnBpfqa2Hw\n",
       "skyd/a3lkhK5of9Qfm+2gAAAACRBmqxJqEFsmUwIL//+2qZYAAAZTjkzcAWyVqHkpAvRIMM6tIAA\n",
       "AAAOQZ7KRRUsFP8AAAMABZUAAABjAZ7pdEEvAAADAMkA6AEYuOR/bcLafffK7DpbwZ5IDnB4smyA\n",
       "ffsMxbFY/lq+70AziGC3LReSws3oGTJNfTlYLUMXgSdMkbkbeVzJNEJn38E/T1kwq6fN8adPDhX1\n",
       "tPdB+b7aAAAAZQGe62pBLwAAAwDJAOgBGLjkf23C2n33yuw6W8GeSA5weLJsgH37DMWxWP5avu9A\n",
       "M4hgty0XksLN6BkyTX1HX6tNPhTnTJG5G3lcyTRBLpMKBP0jms9hgSm2j1SpM9U4EG3147aAAAAA\n",
       "FUGa8EmoQWyZTAgv//7aplgAAAMD7wAAAA5Bnw5FFSwU/wAAAwAFlQAAAGQBny10QS8AAAMAyQDo\n",
       "ARi45H9twtp998rsOlvBnkgOcHiybIB9+wzFsVj+Wr7vQDOIYLctF5LCzegZMk19R1+rTT4U50yR\n",
       "uRt5XMk0QmffwT9I5rPYYEpto9UqTPVOBBt9eO2hAAAAZAGfL2pBLwAAAwDJAOgBGLjkf23C2n33\n",
       "yuw6W8GeSA5weLJsgH37DMWxWP5avu9AM4hgty0XksLN6BkyTX1HX6tNPhTnTJG5G3lcyTRCZ9/B\n",
       "P0jms9hgSm2j1SpM9U4EG3147aAAAAAVQZs0SahBbJlMCC///tqmWAAAAwPuAAAADkGfUkUVLBT/\n",
       "AAADAAWVAAAAZAGfcXRBLwAAAwDJAOgBGLjkf23C2n33yuw6W8GeSA5weLJsgH37DMWxWP5avu9A\n",
       "M4hgty0XksLN6BkyTX1HX6tNPhTnTJG5G3lcyTRCZ9/BP0jms9hgSm2j1SpM9U4EG3147aAAAABk\n",
       "AZ9zakEvAAADAMkA6AEYuOR/bcLafffK7DpbwZ5IDnB4smyAffsMxbFY/lq+70AziGC3LReSws3o\n",
       "GTJNfUdfq00+FOdMkbkbeVzJNEJn38E/SOaz2GBKbaPVKkz1TgQbfXjtoAAAACdBm3hJqEFsmUwI\n",
       "L//+2qZYAAAZ7ko2QBWJUoqbnVB/ljwFzqwuZMEAAAAOQZ+WRRUsFP8AAAMABZQAAABkAZ+1dEEv\n",
       "AAADAMkA6AEYuOR/bcLafffK7DpbwZ5IDnB4smyAffsMxbFY/lq+70AziGC3LReSws3oGTJNfUdf\n",
       "q00+FOdMkbkbeVzJNEJn38E/SOaz2GBKbaPVKkz1TgQbfXjtoQAAAGUBn7dqQS8AAAMAyQDoARi4\n",
       "5H9twtp998rsOlvBnkgOb7AHCTZAPv2GYtisfy1fd6AZxDBblovJYWb0DJkmvqOv1aafCnOmSNyN\n",
       "vK5kmiE7e/gn6RzWewwJTbR6pUmeqcCDb68dtQAAABVBm7xJqEFsmUwIL//+2qZYAAADA+4AAAAO\n",
       "QZ/aRRUsFP8AAAMABZUAAABkAZ/5dEEvAAADAMkA6AEYuOR/bcLafffK7DpbwZ5IDnB4smyAffsM\n",
       "xbFY/lq+70AziGC3LSdaX/PXdrzAQotoflF5fJOmSNyNdWCnq3GsZ49+nrJSnN3HvQ9UrKBTkBBt\n",
       "9fO2gAAAAGMBn/tqQS8AAAMAyQDoARi45H9twtp998rsOlvBnkgOcHiybIB9+wzFsVj+Wr7vQDOI\n",
       "YLctF5LCzegZMk19R1+rTT4U50yRuRrgtCEiEz7+CfpHNZ7DAlNtHqlSZ6pwINvr520AAAAmQZvg\n",
       "SahBbJlMCC///tqmWAAAGe5KNkAVhJ4Ap/59Y3xtn9N05k0AAAARQZ4eRRUsFP8AAAMAI5evvqMA\n",
       "AABkAZ49dEEvAAADAMkA6AEYuOR/bcLafffK7DpbwZ5IDnB4smyAffsMxbFY/lq+70AziGC3LSda\n",
       "X/PXdrzAQotoflF5fJOmSNyNdWCnq3GsZ49+nrJSnN3HvQ9UrKBTkBBt9fO2gAAAAGMBnj9qQS8A\n",
       "AAMAyQDoARi45H9twtp998rsOlvBnkgOcHiybIB9+wzFsVj+Wr7vQDOIYLcky2FxpgUVb7Ggj25S\n",
       "58Kc6ZI3I1wWhCRZVjeDv0zaVOTyid/YnhwYIRAQbfXztoEAAAAVQZokSahBbJlMCC///tqmWAAA\n",
       "AwPuAAAAEkGeQkUVLBT/AAADACOXH7StwQAAAGMBnmF0QS8AAAMAyQDoARi45H9twtp998rsOlvB\n",
       "nkgOcHiybIB9+wzFsVj+Wr7vQDOIYLcky2FxpgUVb7Ggj25S58Kc6ZI3I1wWhCRZVjeDv0zaVOTy\n",
       "id/YnhwYIRAQbfXztoAAAABjAZ5jakEvAAADAMkA6AEYuOR/bcLafffK7DpbwZ5IDnB4smyAffsM\n",
       "xbFY/lq+70AziGC3JMthcaYFFW+xoI9uUufCnOmSNyNcFoQkWVY3g79M2lTk8onf2J4cGCEQEG31\n",
       "87aBAAAAGEGaaEmoQWyZTAgv//7aplgAABnsR/5EKwAAABFBnoZFFSwU/wAAAwAjla3MRwAAAGMB\n",
       "nqV0QS8AAAMAyQDoARi45H9twtp998rsOlvBnkgOcHiybIB9+wzFsVj+Wr7vQDOIYLcky2FxpgUV\n",
       "b7Ggj25S58Kc6ZI3I1wWhCRZVjeDv0zaVOTyid/YnhwYIRAQbfXztoEAAABjAZ6nakEvAAADAMkA\n",
       "6AEYuOR/bcLafffK7DpbwZ5IDnB4smyAffsMxbFY/lq+70AziGC3LReSws3oGTJNfUdfq00+FOdM\n",
       "kbka4LQhIhM+/gn6RzWewwJTbR6pUmeqcCDb6+dtAAAAFUGarEmoQWyZTAgv//7aplgAAAMD7gAA\n",
       "AA5BnspFFSwU/wAAAwAFlQAAAGMBnul0QS8AAAMAyQDoARi45H9twtp998rsOlvBnkgOcHiybIB9\n",
       "+wzFsVj+Wr7vQDOIYLctF5LCzegZMk19R1+rTT4U50yRuRrgtCEiEz7+CfpHNZ7DAlNtHqlSZ6pw\n",
       "INvr520AAABjAZ7rakEvAAADAMkA6AEYuOR/bcLafffK7DpbwZ5IDnB4smyAffsMxbFY/lq+70Az\n",
       "iGC3LReSws3oGTJNfUdfq00+FOdMkbka4LQhIhM+/gn6RzWewwJTbR6pUmeqcCDb6+dtAAAAFUGa\n",
       "8EmoQWyZTAgv//7aplgAAAMD7wAAAA5Bnw5FFSwU/wAAAwAFlQAAAGQBny10QS8AAAMAySdYAW1u\n",
       "TzzJErIz+c4g0gI7MqfQjyJXlwvfMUqMx+8fDZgBLxUFiQ+iXYsaeezSOK6Rt91gP/UinO0Y7cjX\n",
       "T38WVp2H9WfL18mj+0fJX5E3/ix8UG3187aBAAAAYwGfL2pBLwAAAwDJAOgBGLjkf23C2n33yuw6\n",
       "W8GeSA5weLJsgH37DMWxWP5avu9AM4hgty0XksLN6BkyTX1HX6tNPhTnTJG5GuC0ISITPv4J+kc1\n",
       "nsMCU20eqVJnqnAg2+vnbQAAAM1BmzRJqEFsmUwIL//+2qZYAAAz/tjBQA6Pqk1DWcN6Tmoiokiv\n",
       "yR9woWzFzBbz5gEWGdvbq+D3zMe205tg6XbXhYyJ/GugE15c+F2/fu9Gyzug6rktjLYKfRKIDwHL\n",
       "+ffLKiw50CGAD9wyWB54FMbgbUTsEHeTtMM5vfRiFIWCU3C6AF6Yg9DBqPCRKJ/NSCNhEzIjw+vb\n",
       "x6HxFTC7hgk9w+5quXH+4KVprEKpy9zWLO5d/BoIn2nTsinrUMndoXjH4UxjEI4J3dGtIemAAAAA\n",
       "FUGfUkUVLBT/AAADAEcrWpg2EoSDtwAAACYBn3F0QS8AAAMAyLcnfBPPAADZDJNT4VjKTI1GnfIU\n",
       "C7dkoXkr3AAAACkBn3NqQS8AAAMAyLR7dXswAhFCUcgpkDz5ciWcC/KeYHVQziyS1EPiEAAAABVB\n",
       "m3hJqEFsmUwIL//+2qZYAAADA+8AAAAOQZ+WRRUsFP8AAAMABZQAAABOAZ+1dEEvAAADAMhzZMjb\n",
       "ogBGBsq9pni3tnoAh4cJ7d13U6k75+p+GmrKjF1M53lsFvVJzWfZKtukWaf9cITZ8BIy3E9k7CL7\n",
       "OfqaIFZ1AAAATgGft2pBLwAAAwDGqx95YJACMDZV7TPFvbPQBDw4T27rup1J3z9T8NNWVGLqZzvL\n",
       "YLeqTms+yVbdIs0/64Qmz4CRluJ7J2EX2c/U0QKzoQAAABVBm7xJqEFsmUwIL//+2qZYAAADA+4A\n",
       "AAAOQZ/aRRUsFP8AAAMABZUAAABOAZ/5dEEvAAADAMhzZMjbogBGBsq9pni3tnoAh4cJ7d13U6k7\n",
       "5+p+GmrKjF1M53lsFvVJzWfZKtukWaf9cITZ8BIy3E9k7CL7OfqaIFZ0AAAATgGf+2pBLwAAAwDG\n",
       "qx95YJACMDZV7TPFvbPQBDw4T27rup1J3z9T8NNWVGLqZzvLYLeqTms+yVbdIs0/64Qmz4CRluJ7\n",
       "J2EX2c/U0QKzoQAAABVBm+BJqEFsmUwIL//+2qZYAAADA+8AAAAOQZ4eRRUsFP8AAAMABZQAAABO\n",
       "AZ49dEEvAAADAMhzZMjbogBGBsq9pni3tnoAh4cJ7d13U6k75+p+GmrKjF1M53lsFvVJzWfZKtuk\n",
       "Waf9cITZ8BIy3E9k7CL7OfqaIFZ0AAAATgGeP2pBLwAAAwDGqx95YJACMDZV7TPFvbPQBDw4T27r\n",
       "up1J3z9T8NNWVGLqZzvLYLeqTms+yVbdIs0/64Qmz4CRluJ7J2EX2c/U0QKzoQAAABVBmiRJqEFs\n",
       "mUwIL//+2qZYAAADA+4AAAAOQZ5CRRUsFP8AAAMABZUAAABOAZ5hdEEvAAADAMhzZMjbogBGBsq9\n",
       "pni3tnoAh4cJ7d13U6k75+p+GmrKjF1M53lsFvVJzWfZKtukWaf9cITZ8BIy3E9k7CL7OfqaIFZ0\n",
       "AAAATgGeY2pBLwAAAwDGqx95YJACMDZV7TPFvbPQBDw4T27rup1J3z9T8NNWVGLqZzvLYLeqTms+\n",
       "yVbdIs0/64Qmz4CRluJ7J2EX2c/U0QKzoQAAABVBmmhJqEFsmUwIL//+2qZYAAADA+8AAAAOQZ6G\n",
       "RRUsFP8AAAMABZUAAABOAZ6ldEEvAAADAMhzZMjbogBGBsq9pni3tnoAh4cJ7d13U6k75+p+GmrK\n",
       "jF1M53lsFvVJzWfZKtukWaf9cITZ8BIy3E9k7CL7OfqaIFZ1AAAATgGep2pBLwAAAwDGqx95YJAC\n",
       "MDZV7TPFvbPQBDw4T27rup1J3z9T8NNWVGLqZzvLYLeqTms+yVbdIs0/64Qmz4CRluJ7J2EX2c/U\n",
       "0QKzoAAAABVBmqxJqEFsmUwIL//+2qZYAAADA+4AAAAOQZ7KRRUsFP8AAAMABZUAAABOAZ7pdEEv\n",
       "AAADAMhzZMjbogBGBsq9pni3tnoAh4cJ7d13U6k75+p+GmrKjF1M53lsFvVJzWfZKtukWaf9cITZ\n",
       "8BIy3E9k7CL7OfqaIFZ0AAAATgGe62pBLwAAAwDGqx95YJACMDZV7TPFvbPQBDw4T27rup1J3z9T\n",
       "8NNWVGLqZzvLYLeqTms+yVbdIs0/64Qmz4CRluJ7J2EX2c/U0QKzoAAAABVBmvBJqEFsmUwIL//+\n",
       "2qZYAAADA+8AAAAOQZ8ORRUsFP8AAAMABZUAAABOAZ8tdEEvAAADAMhzZMjbogBGBsq9pni3tnoA\n",
       "h4cJ7d13U6k75+p+GmrKjF1M53lsFvVJzWfZKtukWaf9cITZ8BIy3E9k7CL7OfqaIFZ1AAAATgGf\n",
       "L2pBLwAAAwDGqx95YJACMDZV7TPFvbPQBDw4T27rup1J3z9T8NNWVGLqZzvLYLeqTms+yVbdIs0/\n",
       "64Qmz4CRluJ7J2EX2c/U0QKzoAAAABVBmzRJqEFsmUwIL//+2qZYAAADA+4AAAAOQZ9SRRUsFP8A\n",
       "AAMABZUAAABOAZ9xdEEvAAADAMhzZMjbogBGBsq9pni3tnoAh4cJ7d13U6k75+p+GmrKjF1M53ls\n",
       "FvVJzWfZKtukWaf9cITZ8BIy3E9k7CL7OfqaIFZ0AAAATgGfc2pBLwAAAwDGqx95YJACMDZV7TPF\n",
       "vbPQBDw4T27rup1J3z9T8NNWVGLqZzvLYLeqTms+yVbdIs0/64Qmz4CRluJ7J2EX2c/U0QKzoAAA\n",
       "ABVBm3hJqEFsmUwILf/+1qVQAAADA+8AAAAOQZ+WRRUsFP8AAAMABZQAAABOAZ+1dEEvAAADAMhz\n",
       "ZMjbogBGBsq9pni3tnoAh4cJ7d13U6k75+p+GmrKjF1M53lsFvVJzWfZKtukWaf9cITZ8BIy3E9k\n",
       "7CL7OfqaIFZ1AAAATgGft2pBLwAAAwDGqx95YJACMDZV7TPFvbPQBDw4T27rup1J3z9T8NNWVGLq\n",
       "ZzvLYLeqTms+yVbdIs0/64Qmz4CRluJ7J2EX2c/U0QKzoQAAABVBm7xJqEFsmUwILf/+1qVQAAAD\n",
       "A+4AAAAOQZ/aRRUsFP8AAAMABZUAAABOAZ/5dEEvAAADAMhzZMjbogBGBsq9pni3tnoAh4cJ7d13\n",
       "U6k75+p+GmrKjF1M53lsFvVJzWfZKtukWaf9cITZ8BIy3E9k7CL7OfqaIFZ0AAAATgGf+2pBLwAA\n",
       "AwDGqx95YJACMDZV7TPFvbPQBDw4T27rup1J3z9T8NNWVGLqZzvLYLeqTms+yVbdIs0/64Qmz4CR\n",
       "luJ7J2EX2c/U0QKzoQAAABVBm+BJqEFsmUwIK//+1qVQAAADA+8AAAAOQZ4eRRUsFP8AAAMABZQA\n",
       "AABOAZ49dEEvAAADAMhzZMjbogBGBsq9pni3tnoAh4cJ7d13U6k75+p+GmrKjF1M53lsFvVJzWfZ\n",
       "KtukWaf9cITZ8BIy3E9k7CL7OfqaIFZ0AAAATgGeP2pBLwAAAwDGqx95YJACMDZV7TPFvbPQBDw4\n",
       "T27rup1J3z9T8NNWVGLqZzvLYLeqTms+yVbdIs0/64Qmz4CRluJ7J2EX2c/U0QKzoQAAAFdBmiNJ\n",
       "qEFsmUwIJf/+tSqAAAGVzvj0VKADimyr2meLe2egCHhwnt3XdTqTvn6n4aasqMXUzneWwW9UnNZ+\n",
       "tbHBozs0/64Qmz4CRluJ7J2EX2c/U0QTXKAAAAAWQZ5BRRUsE/8AAAMAg/DfgAESk02LOwAAABEB\n",
       "nmJqQS8AAAMAyLR7blD+iAAAB9Ztb292AAAAbG12aGQAAAAAAAAAAAAAAAAAAAPoAADDUAABAAAB\n",
       "AAAAAAAAAAAAAAAAAQAAAAAAAAAAAAAAAAAAAAEAAAAAAAAAAAAAAAAAAEAAAAAAAAAAAAAAAAAA\n",
       "AAAAAAAAAAAAAAAAAAAAAAACAAAHAHRyYWsAAABcdGtoZAAAAAMAAAAAAAAAAAAAAAEAAAAAAADD\n",
       "UAAAAAAAAAAAAAAAAAAAAAAAAQAAAAAAAAAAAAAAAAAAAAEAAAAAAAAAAAAAAAAAAEAAAAABsAAA\n",
       "ASAAAAAAACRlZHRzAAAAHGVsc3QAAAAAAAAAAQAAw1AAAEAAAAEAAAAABnhtZGlhAAAAIG1kaGQA\n",
       "AAAAAAAAAAAAAAAAAEAAAAyAAFXEAAAAAAAtaGRscgAAAAAAAAAAdmlkZQAAAAAAAAAAAAAAAFZp\n",
       "ZGVvSGFuZGxlcgAAAAYjbWluZgAAABR2bWhkAAAAAQAAAAAAAAAAAAAAJGRpbmYAAAAcZHJlZgAA\n",
       "AAAAAAABAAAADHVybCAAAAABAAAF43N0YmwAAACzc3RzZAAAAAAAAAABAAAAo2F2YzEAAAAAAAAA\n",
       "AQAAAAAAAAAAAAAAAAAAAAABsAEgAEgAAABIAAAAAAAAAAEAAAAAAAAAAAAAAAAAAAAAAAAAAAAA\n",
       "AAAAAAAAAAAAAAAY//8AAAAxYXZjQwFkABX/4QAYZ2QAFazZQbCWhAAAAwAEAAADABA8WLZYAQAG\n",
       "aOvjyyLAAAAAHHV1aWRraEDyXyRPxbo5pRvPAyPzAAAAAAAAABhzdHRzAAAAAAAAAAEAAABkAAAg\n",
       "AAAAABRzdHNzAAAAAAAAAAEAAAABAAADKGN0dHMAAAAAAAAAYwAAAAEAAEAAAAAAAQAAoAAAAAAB\n",
       "AABAAAAAAAEAAAAAAAAAAQAAIAAAAAABAACgAAAAAAEAAEAAAAAAAQAAAAAAAAABAAAgAAAAAAEA\n",
       "AKAAAAAAAQAAQAAAAAABAAAAAAAAAAEAACAAAAAAAQAAoAAAAAABAABAAAAAAAEAAAAAAAAAAQAA\n",
       "IAAAAAABAACgAAAAAAEAAEAAAAAAAQAAAAAAAAABAAAgAAAAAAEAAKAAAAAAAQAAQAAAAAABAAAA\n",
       "AAAAAAEAACAAAAAAAQAAoAAAAAABAABAAAAAAAEAAAAAAAAAAQAAIAAAAAABAACgAAAAAAEAAEAA\n",
       "AAAAAQAAAAAAAAABAAAgAAAAAAEAAKAAAAAAAQAAQAAAAAABAAAAAAAAAAEAACAAAAAAAQAAoAAA\n",
       "AAABAABAAAAAAAEAAAAAAAAAAQAAIAAAAAABAACgAAAAAAEAAEAAAAAAAQAAAAAAAAABAAAgAAAA\n",
       "AAEAAKAAAAAAAQAAQAAAAAABAAAAAAAAAAEAACAAAAAAAQAAoAAAAAABAABAAAAAAAEAAAAAAAAA\n",
       "AQAAIAAAAAABAACgAAAAAAEAAEAAAAAAAQAAAAAAAAABAAAgAAAAAAEAAKAAAAAAAQAAQAAAAAAB\n",
       "AAAAAAAAAAEAACAAAAAAAQAAoAAAAAABAABAAAAAAAEAAAAAAAAAAQAAIAAAAAABAACgAAAAAAEA\n",
       "AEAAAAAAAQAAAAAAAAABAAAgAAAAAAEAAKAAAAAAAQAAQAAAAAABAAAAAAAAAAEAACAAAAAAAQAA\n",
       "oAAAAAABAABAAAAAAAEAAAAAAAAAAQAAIAAAAAABAACgAAAAAAEAAEAAAAAAAQAAAAAAAAABAAAg\n",
       "AAAAAAEAAKAAAAAAAQAAQAAAAAABAAAAAAAAAAEAACAAAAAAAQAAoAAAAAABAABAAAAAAAEAAAAA\n",
       "AAAAAQAAIAAAAAABAACgAAAAAAEAAEAAAAAAAQAAAAAAAAABAAAgAAAAAAEAAKAAAAAAAQAAQAAA\n",
       "AAABAAAAAAAAAAEAACAAAAAAAQAAgAAAAAACAAAgAAAAABxzdHNjAAAAAAAAAAEAAAABAAAAZAAA\n",
       "AAEAAAGkc3RzegAAAAAAAAAAAAAAZAAAHlUAAAGoAAAA5wAABKkAAACWAAAASwAAABUAAABiAAAA\n",
       "aAAAACgAAAASAAAAZwAAAGkAAAAZAAAAEgAAAGgAAABoAAAAGQAAABIAAABoAAAAaAAAACsAAAAS\n",
       "AAAAaAAAAGkAAAAZAAAAEgAAAGgAAABnAAAAKgAAABUAAABoAAAAZwAAABkAAAAWAAAAZwAAAGcA\n",
       "AAAcAAAAFQAAAGcAAABnAAAAGQAAABIAAABnAAAAZwAAABkAAAASAAAAaAAAAGcAAADRAAAAGQAA\n",
       "ACoAAAAtAAAAGQAAABIAAABSAAAAUgAAABkAAAASAAAAUgAAAFIAAAAZAAAAEgAAAFIAAABSAAAA\n",
       "GQAAABIAAABSAAAAUgAAABkAAAASAAAAUgAAAFIAAAAZAAAAEgAAAFIAAABSAAAAGQAAABIAAABS\n",
       "AAAAUgAAABkAAAASAAAAUgAAAFIAAAAZAAAAEgAAAFIAAABSAAAAGQAAABIAAABSAAAAUgAAABkA\n",
       "AAASAAAAUgAAAFIAAABbAAAAGgAAABUAAAAUc3RjbwAAAAAAAAABAAAALAAAAGJ1ZHRhAAAAWm1l\n",
       "dGEAAAAAAAAAIWhkbHIAAAAAAAAAAG1kaXJhcHBsAAAAAAAAAAAAAAAALWlsc3QAAAAlqXRvbwAA\n",
       "AB1kYXRhAAAAAQAAAABMYXZmNTguMTIuMTAw\n",
       "\">\n",
       "  Your browser does not support the video tag.\n",
       "</video>"
      ],
      "text/plain": [
       "<IPython.core.display.HTML object>"
      ]
     },
     "execution_count": 38,
     "metadata": {},
     "output_type": "execute_result"
    }
   ],
   "source": [
    "HTML(anim.to_html5_video())"
   ]
  },
  {
   "cell_type": "markdown",
   "metadata": {},
   "source": [
    "设定权重初始值（即 $x$）、学习率、最大迭代次数等，会发现以下几点:\n",
    "* 越在前面 loss 收敛速度越快，后面则改变幅度很小。\n",
    "* 学习率过大，或导致 loss 震荡，一直达不到极小值点，虽然这里 lr=0.07 时仍然收敛了，这是因为如果 lr 过大，会直接导致超出计算机能表示的数值范围，在这里就能看出 loss 的变化幅度已经很大了。超出数值范围，对应到 caffe 中就是 Nan（not a number），这是新手容易遇到的问题。\n",
    "* 学习率过小，收敛速度慢。\n",
    "\n",
    "因此，如何选择一个合适的学习率很重要，同时也要应用相应的学习率衰减策略（略）。"
   ]
  },
  {
   "cell_type": "markdown",
   "metadata": {},
   "source": [
    "所以深度学习的基础算法之一，梯度下降其实并不难理解，只需要一些数值计算的知识即可。通过一元函数的梯度下降法求极值点，可以对应到深度学习中的很多知识。真正的深度学习当然不可能只是一个一元函数，而是非常复杂的函数，但不管在哪，梯度下降法都是适用的。"
   ]
  }
 ],
 "metadata": {
  "kernelspec": {
   "display_name": "Python 3",
   "language": "python",
   "name": "python3"
  },
  "language_info": {
   "codemirror_mode": {
    "name": "ipython",
    "version": 3
   },
   "file_extension": ".py",
   "mimetype": "text/x-python",
   "name": "python",
   "nbconvert_exporter": "python",
   "pygments_lexer": "ipython3",
   "version": "3.7.2"
  }
 },
 "nbformat": 4,
 "nbformat_minor": 2
}
